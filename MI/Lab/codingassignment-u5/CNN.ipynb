{
  "nbformat": 4,
  "nbformat_minor": 0,
  "metadata": {
    "colab": {
      "provenance": [],
      "collapsed_sections": []
    },
    "kernelspec": {
      "name": "python3",
      "display_name": "Python 3"
    },
    "accelerator": "GPU"
  },
  "cells": [
    {
      "cell_type": "markdown",
      "metadata": {
        "id": "Jeyuavx87wBE"
      },
      "source": [
        "**Experiment 12**\n",
        "\n",
        "Using CNN for Image ClassificatioN"
      ]
    },
    {
      "cell_type": "code",
      "metadata": {
        "id": "xQ5ka1Ypebu9"
      },
      "source": [
        "!pip install tensorflow"
      ],
      "execution_count": null,
      "outputs": []
    },
    {
      "cell_type": "code",
      "metadata": {
        "id": "Wvg5NqlreQLO"
      },
      "source": [
        "import tensorflow as tf\n",
        "from tensorflow.keras import datasets, layers, models\n",
        "from keras.preprocessing.image import ImageDataGenerator\n",
        "from keras.layers import Conv2D, MaxPooling2D, BatchNormalization, ReLU, Flatten, Dense\n",
        "from keras.datasets import cifar10"
      ],
      "execution_count": null,
      "outputs": []
    },
    {
      "cell_type": "markdown",
      "metadata": {
        "id": "LSD4aHj-7k7M"
      },
      "source": [
        "Loading Cifar-10 dataset"
      ]
    },
    {
      "cell_type": "code",
      "metadata": {
        "id": "xURrEzSV7YZ_"
      },
      "source": [
        "(x_train, y_train), (x_test, y_test) = cifar10.load_data()"
      ],
      "execution_count": null,
      "outputs": []
    },
    {
      "cell_type": "markdown",
      "metadata": {
        "id": "BOAifzrk7arY"
      },
      "source": [
        "Using ImageDataGenerator for Real-time data augmentation"
      ]
    },
    {
      "cell_type": "code",
      "metadata": {
        "id": "2MIOobz3eVML"
      },
      "source": [
        "img_gen = ImageDataGenerator(\n",
        "    width_shift_range=0.1, height_shift_range=0.1, horizontal_flip=True, rotation_range = 30, rescale = 1./255)\n",
        "train_gen = img_gen.flow(x_train, y_train, batch_size = 32)\n",
        "test_gen = img_gen.flow(x_test, y_test)"
      ],
      "execution_count": null,
      "outputs": []
    },
    {
      "cell_type": "markdown",
      "metadata": {
        "id": "eh4wocf-7QdE"
      },
      "source": [
        "Building a CNN Model for Image Classification"
      ]
    },
    {
      "cell_type": "code",
      "metadata": {
        "id": "zyB26jz4eTQH"
      },
      "source": [
        "model = models.Sequential()\n",
        "# Todo\n",
        "#Your input is of  32 x 32 x 3 dimensions\n"
      ],
      "execution_count": null,
      "outputs": []
    },
    {
      "cell_type": "code",
      "source": [
        "model.summary()"
      ],
      "metadata": {
        "id": "ldcr2MnwpEIW"
      },
      "execution_count": null,
      "outputs": []
    },
    {
      "cell_type": "code",
      "metadata": {
        "id": "_eutAfDtpHh_"
      },
      "source": [
        "model.compile(optimizer='adam',\n",
        "              loss='sparse_categorical_crossentropy', metrics=['accuracy'])\n",
        "\n",
        "steps_per_epoch = x_train.shape[0] // 32\n",
        "r = model.fit(train_gen, steps_per_epoch=steps_per_epoch,\n",
        "                    validation_data=test_gen, epochs = 20)"
      ],
      "execution_count": null,
      "outputs": []
    },
    {
      "cell_type": "code",
      "metadata": {
        "id": "gsmkO96me7n4"
      },
      "source": [
        "model.evaluate(test_gen)"
      ],
      "execution_count": null,
      "outputs": []
    },
    {
      "cell_type": "code",
      "metadata": {
        "id": "txaM8GmeieWF"
      },
      "source": [
        "model.summary()"
      ],
      "execution_count": null,
      "outputs": []
    },
    {
      "cell_type": "code",
      "source": [
        "#Save your model"
      ],
      "metadata": {
        "id": "x9UyZFOUr_r1"
      },
      "execution_count": null,
      "outputs": []
    },
    {
      "cell_type": "code",
      "source": [
        "#For your Verification Purposes:\n",
        "model_n=tf.keras.models.load_model() # \"SRN.h5\"\n",
        "model_n.summary()\n",
        "\n",
        "#Verify your model using this i.e ,if the Image generated after this matches the Flow chart Image in PDF file then your output is most likely correct\n",
        "tf.keras.utils.plot_model(model, to_file=\"my_model.png\", show_shapes=True)"
      ],
      "metadata": {
        "id": "r4YcCNb8tDKM"
      },
      "execution_count": null,
      "outputs": []
    }
  ]
}