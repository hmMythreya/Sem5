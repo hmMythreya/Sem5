{
 "cells": [
  {
   "cell_type": "code",
   "execution_count": 27,
   "metadata": {},
   "outputs": [],
   "source": [
    "import pandas as pd\n",
    "import sklearn as sk\n",
    "import tensorflow as tf\n",
    "import numpy as np\n",
    "import seaborn as sns\n"
   ]
  },
  {
   "cell_type": "code",
   "execution_count": 28,
   "metadata": {},
   "outputs": [
    {
     "data": {
      "text/html": [
       "<div>\n",
       "<style scoped>\n",
       "    .dataframe tbody tr th:only-of-type {\n",
       "        vertical-align: middle;\n",
       "    }\n",
       "\n",
       "    .dataframe tbody tr th {\n",
       "        vertical-align: top;\n",
       "    }\n",
       "\n",
       "    .dataframe thead th {\n",
       "        text-align: right;\n",
       "    }\n",
       "</style>\n",
       "<table border=\"1\" class=\"dataframe\">\n",
       "  <thead>\n",
       "    <tr style=\"text-align: right;\">\n",
       "      <th></th>\n",
       "      <th>InvoiceNo</th>\n",
       "      <th>StockCode</th>\n",
       "      <th>Description</th>\n",
       "      <th>Quantity</th>\n",
       "      <th>InvoiceDate</th>\n",
       "      <th>UnitPrice</th>\n",
       "      <th>CustomerID</th>\n",
       "      <th>Country</th>\n",
       "    </tr>\n",
       "  </thead>\n",
       "  <tbody>\n",
       "    <tr>\n",
       "      <th>0</th>\n",
       "      <td>536365</td>\n",
       "      <td>85123A</td>\n",
       "      <td>WHITE HANGING HEART T-LIGHT HOLDER</td>\n",
       "      <td>6</td>\n",
       "      <td>2010-12-01 08:26:00</td>\n",
       "      <td>2.55</td>\n",
       "      <td>17850.0</td>\n",
       "      <td>United Kingdom</td>\n",
       "    </tr>\n",
       "    <tr>\n",
       "      <th>1</th>\n",
       "      <td>536365</td>\n",
       "      <td>71053</td>\n",
       "      <td>WHITE METAL LANTERN</td>\n",
       "      <td>6</td>\n",
       "      <td>2010-12-01 08:26:00</td>\n",
       "      <td>3.39</td>\n",
       "      <td>17850.0</td>\n",
       "      <td>United Kingdom</td>\n",
       "    </tr>\n",
       "    <tr>\n",
       "      <th>2</th>\n",
       "      <td>536365</td>\n",
       "      <td>84406B</td>\n",
       "      <td>CREAM CUPID HEARTS COAT HANGER</td>\n",
       "      <td>8</td>\n",
       "      <td>2010-12-01 08:26:00</td>\n",
       "      <td>2.75</td>\n",
       "      <td>17850.0</td>\n",
       "      <td>United Kingdom</td>\n",
       "    </tr>\n",
       "    <tr>\n",
       "      <th>3</th>\n",
       "      <td>536365</td>\n",
       "      <td>84029G</td>\n",
       "      <td>KNITTED UNION FLAG HOT WATER BOTTLE</td>\n",
       "      <td>6</td>\n",
       "      <td>2010-12-01 08:26:00</td>\n",
       "      <td>3.39</td>\n",
       "      <td>17850.0</td>\n",
       "      <td>United Kingdom</td>\n",
       "    </tr>\n",
       "    <tr>\n",
       "      <th>4</th>\n",
       "      <td>536365</td>\n",
       "      <td>84029E</td>\n",
       "      <td>RED WOOLLY HOTTIE WHITE HEART.</td>\n",
       "      <td>6</td>\n",
       "      <td>2010-12-01 08:26:00</td>\n",
       "      <td>3.39</td>\n",
       "      <td>17850.0</td>\n",
       "      <td>United Kingdom</td>\n",
       "    </tr>\n",
       "  </tbody>\n",
       "</table>\n",
       "</div>"
      ],
      "text/plain": [
       "  InvoiceNo StockCode                          Description  Quantity  \\\n",
       "0    536365    85123A   WHITE HANGING HEART T-LIGHT HOLDER         6   \n",
       "1    536365     71053                  WHITE METAL LANTERN         6   \n",
       "2    536365    84406B       CREAM CUPID HEARTS COAT HANGER         8   \n",
       "3    536365    84029G  KNITTED UNION FLAG HOT WATER BOTTLE         6   \n",
       "4    536365    84029E       RED WOOLLY HOTTIE WHITE HEART.         6   \n",
       "\n",
       "          InvoiceDate  UnitPrice  CustomerID         Country  \n",
       "0 2010-12-01 08:26:00       2.55     17850.0  United Kingdom  \n",
       "1 2010-12-01 08:26:00       3.39     17850.0  United Kingdom  \n",
       "2 2010-12-01 08:26:00       2.75     17850.0  United Kingdom  \n",
       "3 2010-12-01 08:26:00       3.39     17850.0  United Kingdom  \n",
       "4 2010-12-01 08:26:00       3.39     17850.0  United Kingdom  "
      ]
     },
     "execution_count": 28,
     "metadata": {},
     "output_type": "execute_result"
    }
   ],
   "source": [
    "df= pd.read_excel('./MI_Assignment1_2_Online Retail.xlsx')\n",
    "df.head(5)"
   ]
  },
  {
   "cell_type": "markdown",
   "metadata": {},
   "source": [
    "# PRE PROCESSING"
   ]
  },
  {
   "cell_type": "code",
   "execution_count": 29,
   "metadata": {},
   "outputs": [
    {
     "data": {
      "text/plain": [
       "InvoiceNo      541909\n",
       "StockCode      541909\n",
       "Description    540455\n",
       "Quantity       541909\n",
       "InvoiceDate    541909\n",
       "UnitPrice      541909\n",
       "CustomerID     406829\n",
       "Country        541909\n",
       "dtype: int64"
      ]
     },
     "execution_count": 29,
     "metadata": {},
     "output_type": "execute_result"
    }
   ],
   "source": [
    "from time import time\n",
    "\n",
    "\n",
    "#convert str to date\n",
    "df['InvoiceDate']=pd.to_datetime(df['InvoiceDate'])\n",
    "df.count()"
   ]
  },
  {
   "cell_type": "markdown",
   "metadata": {},
   "source": [
    "## DROPPING NULL TUPLES"
   ]
  },
  {
   "cell_type": "code",
   "execution_count": 30,
   "metadata": {},
   "outputs": [
    {
     "data": {
      "text/plain": [
       "InvoiceNo           0\n",
       "StockCode           0\n",
       "Description      1454\n",
       "Quantity            0\n",
       "InvoiceDate         0\n",
       "UnitPrice           0\n",
       "CustomerID     135080\n",
       "Country             0\n",
       "dtype: int64"
      ]
     },
     "execution_count": 30,
     "metadata": {},
     "output_type": "execute_result"
    }
   ],
   "source": [
    "df.isnull().sum()"
   ]
  },
  {
   "cell_type": "code",
   "execution_count": 31,
   "metadata": {},
   "outputs": [],
   "source": [
    "df=df[df['CustomerID'].notna()]"
   ]
  },
  {
   "cell_type": "code",
   "execution_count": 32,
   "metadata": {},
   "outputs": [
    {
     "data": {
      "text/plain": [
       "InvoiceNo      0\n",
       "StockCode      0\n",
       "Description    0\n",
       "Quantity       0\n",
       "InvoiceDate    0\n",
       "UnitPrice      0\n",
       "CustomerID     0\n",
       "Country        0\n",
       "dtype: int64"
      ]
     },
     "execution_count": 32,
     "metadata": {},
     "output_type": "execute_result"
    }
   ],
   "source": [
    "\n",
    "df.isnull().sum()"
   ]
  },
  {
   "cell_type": "markdown",
   "metadata": {},
   "source": [
    "## CREATING TRAINING SET"
   ]
  },
  {
   "cell_type": "code",
   "execution_count": 33,
   "metadata": {},
   "outputs": [],
   "source": [
    "\"\"\n",
    "from datetime import datetime\n",
    "from random import triangular\n",
    "\n",
    "\n",
    "start_date=pd.Timestamp(2010,12,1)\n",
    "end_date=pd.Timestamp(2011,8,31)\n",
    "train_set=df[df['InvoiceDate']>=start_date]\n",
    "train_set=train_set[train_set['InvoiceDate']<=end_date]"
   ]
  },
  {
   "cell_type": "code",
   "execution_count": 34,
   "metadata": {},
   "outputs": [
    {
     "data": {
      "text/html": [
       "<div>\n",
       "<style scoped>\n",
       "    .dataframe tbody tr th:only-of-type {\n",
       "        vertical-align: middle;\n",
       "    }\n",
       "\n",
       "    .dataframe tbody tr th {\n",
       "        vertical-align: top;\n",
       "    }\n",
       "\n",
       "    .dataframe thead th {\n",
       "        text-align: right;\n",
       "    }\n",
       "</style>\n",
       "<table border=\"1\" class=\"dataframe\">\n",
       "  <thead>\n",
       "    <tr style=\"text-align: right;\">\n",
       "      <th></th>\n",
       "      <th>InvoiceNo</th>\n",
       "      <th>StockCode</th>\n",
       "      <th>Description</th>\n",
       "      <th>Quantity</th>\n",
       "      <th>InvoiceDate</th>\n",
       "      <th>UnitPrice</th>\n",
       "      <th>CustomerID</th>\n",
       "      <th>Country</th>\n",
       "    </tr>\n",
       "  </thead>\n",
       "  <tbody>\n",
       "    <tr>\n",
       "      <th>0</th>\n",
       "      <td>536365</td>\n",
       "      <td>85123A</td>\n",
       "      <td>WHITE HANGING HEART T-LIGHT HOLDER</td>\n",
       "      <td>6</td>\n",
       "      <td>2010-12-01 08:26:00</td>\n",
       "      <td>2.55</td>\n",
       "      <td>17850.0</td>\n",
       "      <td>United Kingdom</td>\n",
       "    </tr>\n",
       "    <tr>\n",
       "      <th>1</th>\n",
       "      <td>536365</td>\n",
       "      <td>71053</td>\n",
       "      <td>WHITE METAL LANTERN</td>\n",
       "      <td>6</td>\n",
       "      <td>2010-12-01 08:26:00</td>\n",
       "      <td>3.39</td>\n",
       "      <td>17850.0</td>\n",
       "      <td>United Kingdom</td>\n",
       "    </tr>\n",
       "    <tr>\n",
       "      <th>2</th>\n",
       "      <td>536365</td>\n",
       "      <td>84406B</td>\n",
       "      <td>CREAM CUPID HEARTS COAT HANGER</td>\n",
       "      <td>8</td>\n",
       "      <td>2010-12-01 08:26:00</td>\n",
       "      <td>2.75</td>\n",
       "      <td>17850.0</td>\n",
       "      <td>United Kingdom</td>\n",
       "    </tr>\n",
       "    <tr>\n",
       "      <th>3</th>\n",
       "      <td>536365</td>\n",
       "      <td>84029G</td>\n",
       "      <td>KNITTED UNION FLAG HOT WATER BOTTLE</td>\n",
       "      <td>6</td>\n",
       "      <td>2010-12-01 08:26:00</td>\n",
       "      <td>3.39</td>\n",
       "      <td>17850.0</td>\n",
       "      <td>United Kingdom</td>\n",
       "    </tr>\n",
       "    <tr>\n",
       "      <th>4</th>\n",
       "      <td>536365</td>\n",
       "      <td>84029E</td>\n",
       "      <td>RED WOOLLY HOTTIE WHITE HEART.</td>\n",
       "      <td>6</td>\n",
       "      <td>2010-12-01 08:26:00</td>\n",
       "      <td>3.39</td>\n",
       "      <td>17850.0</td>\n",
       "      <td>United Kingdom</td>\n",
       "    </tr>\n",
       "  </tbody>\n",
       "</table>\n",
       "</div>"
      ],
      "text/plain": [
       "  InvoiceNo StockCode                          Description  Quantity  \\\n",
       "0    536365    85123A   WHITE HANGING HEART T-LIGHT HOLDER         6   \n",
       "1    536365     71053                  WHITE METAL LANTERN         6   \n",
       "2    536365    84406B       CREAM CUPID HEARTS COAT HANGER         8   \n",
       "3    536365    84029G  KNITTED UNION FLAG HOT WATER BOTTLE         6   \n",
       "4    536365    84029E       RED WOOLLY HOTTIE WHITE HEART.         6   \n",
       "\n",
       "          InvoiceDate  UnitPrice  CustomerID         Country  \n",
       "0 2010-12-01 08:26:00       2.55     17850.0  United Kingdom  \n",
       "1 2010-12-01 08:26:00       3.39     17850.0  United Kingdom  \n",
       "2 2010-12-01 08:26:00       2.75     17850.0  United Kingdom  \n",
       "3 2010-12-01 08:26:00       3.39     17850.0  United Kingdom  \n",
       "4 2010-12-01 08:26:00       3.39     17850.0  United Kingdom  "
      ]
     },
     "execution_count": 34,
     "metadata": {},
     "output_type": "execute_result"
    }
   ],
   "source": [
    "train_set.head()"
   ]
  },
  {
   "cell_type": "code",
   "execution_count": 35,
   "metadata": {},
   "outputs": [
    {
     "data": {
      "text/html": [
       "<div>\n",
       "<style scoped>\n",
       "    .dataframe tbody tr th:only-of-type {\n",
       "        vertical-align: middle;\n",
       "    }\n",
       "\n",
       "    .dataframe tbody tr th {\n",
       "        vertical-align: top;\n",
       "    }\n",
       "\n",
       "    .dataframe thead th {\n",
       "        text-align: right;\n",
       "    }\n",
       "</style>\n",
       "<table border=\"1\" class=\"dataframe\">\n",
       "  <thead>\n",
       "    <tr style=\"text-align: right;\">\n",
       "      <th></th>\n",
       "      <th>InvoiceNo</th>\n",
       "      <th>StockCode</th>\n",
       "      <th>Description</th>\n",
       "      <th>Quantity</th>\n",
       "      <th>InvoiceDate</th>\n",
       "      <th>UnitPrice</th>\n",
       "      <th>CustomerID</th>\n",
       "      <th>Country</th>\n",
       "    </tr>\n",
       "  </thead>\n",
       "  <tbody>\n",
       "    <tr>\n",
       "      <th>320705</th>\n",
       "      <td>565080</td>\n",
       "      <td>20677</td>\n",
       "      <td>PINK POLKADOT BOWL</td>\n",
       "      <td>8</td>\n",
       "      <td>2011-09-01 08:25:00</td>\n",
       "      <td>1.25</td>\n",
       "      <td>13509.0</td>\n",
       "      <td>United Kingdom</td>\n",
       "    </tr>\n",
       "    <tr>\n",
       "      <th>320706</th>\n",
       "      <td>565080</td>\n",
       "      <td>22128</td>\n",
       "      <td>PARTY CONES CANDY ASSORTED</td>\n",
       "      <td>24</td>\n",
       "      <td>2011-09-01 08:25:00</td>\n",
       "      <td>1.25</td>\n",
       "      <td>13509.0</td>\n",
       "      <td>United Kingdom</td>\n",
       "    </tr>\n",
       "    <tr>\n",
       "      <th>320708</th>\n",
       "      <td>565082</td>\n",
       "      <td>22423</td>\n",
       "      <td>REGENCY CAKESTAND 3 TIER</td>\n",
       "      <td>2</td>\n",
       "      <td>2011-09-01 09:15:00</td>\n",
       "      <td>12.75</td>\n",
       "      <td>13305.0</td>\n",
       "      <td>United Kingdom</td>\n",
       "    </tr>\n",
       "    <tr>\n",
       "      <th>320709</th>\n",
       "      <td>565082</td>\n",
       "      <td>15060B</td>\n",
       "      <td>FAIRY CAKE DESIGN UMBRELLA</td>\n",
       "      <td>8</td>\n",
       "      <td>2011-09-01 09:15:00</td>\n",
       "      <td>3.75</td>\n",
       "      <td>13305.0</td>\n",
       "      <td>United Kingdom</td>\n",
       "    </tr>\n",
       "    <tr>\n",
       "      <th>320710</th>\n",
       "      <td>565082</td>\n",
       "      <td>23245</td>\n",
       "      <td>SET OF 3 REGENCY CAKE TINS</td>\n",
       "      <td>4</td>\n",
       "      <td>2011-09-01 09:15:00</td>\n",
       "      <td>4.95</td>\n",
       "      <td>13305.0</td>\n",
       "      <td>United Kingdom</td>\n",
       "    </tr>\n",
       "  </tbody>\n",
       "</table>\n",
       "</div>"
      ],
      "text/plain": [
       "       InvoiceNo StockCode                 Description  Quantity  \\\n",
       "320705    565080     20677          PINK POLKADOT BOWL         8   \n",
       "320706    565080     22128  PARTY CONES CANDY ASSORTED        24   \n",
       "320708    565082     22423    REGENCY CAKESTAND 3 TIER         2   \n",
       "320709    565082    15060B  FAIRY CAKE DESIGN UMBRELLA         8   \n",
       "320710    565082     23245  SET OF 3 REGENCY CAKE TINS         4   \n",
       "\n",
       "               InvoiceDate  UnitPrice  CustomerID         Country  \n",
       "320705 2011-09-01 08:25:00       1.25     13509.0  United Kingdom  \n",
       "320706 2011-09-01 08:25:00       1.25     13509.0  United Kingdom  \n",
       "320708 2011-09-01 09:15:00      12.75     13305.0  United Kingdom  \n",
       "320709 2011-09-01 09:15:00       3.75     13305.0  United Kingdom  \n",
       "320710 2011-09-01 09:15:00       4.95     13305.0  United Kingdom  "
      ]
     },
     "execution_count": 35,
     "metadata": {},
     "output_type": "execute_result"
    }
   ],
   "source": [
    "start_date=pd.Timestamp(2011,9,1)\n",
    "end_date=pd.Timestamp(2011,12,31)\n",
    "churn_set=df[df['InvoiceDate']>=start_date]\n",
    "churn_set=churn_set[churn_set['InvoiceDate']<=end_date]\n",
    "churn_set.head()"
   ]
  },
  {
   "cell_type": "markdown",
   "metadata": {},
   "source": [
    "## ASSIGNING TARGET VARIABLE"
   ]
  },
  {
   "cell_type": "code",
   "execution_count": 36,
   "metadata": {},
   "outputs": [],
   "source": [
    "train_unique=train_set['CustomerID'].unique()\n",
    "churn_unique=churn_set['CustomerID'].unique()\n",
    "\n",
    "ischurnlis=[]\n",
    "for id in train_unique:\n",
    "    if id in churn_unique:\n",
    "        ischurnlis.append(id)\n"
   ]
  },
  {
   "cell_type": "code",
   "execution_count": 37,
   "metadata": {},
   "outputs": [],
   "source": [
    "train_set=train_set.assign(isChurn=[1 if x in ischurnlis else 0 for x in train_set['CustomerID']])"
   ]
  },
  {
   "cell_type": "code",
   "execution_count": 38,
   "metadata": {},
   "outputs": [
    {
     "data": {
      "text/html": [
       "<div>\n",
       "<style scoped>\n",
       "    .dataframe tbody tr th:only-of-type {\n",
       "        vertical-align: middle;\n",
       "    }\n",
       "\n",
       "    .dataframe tbody tr th {\n",
       "        vertical-align: top;\n",
       "    }\n",
       "\n",
       "    .dataframe thead th {\n",
       "        text-align: right;\n",
       "    }\n",
       "</style>\n",
       "<table border=\"1\" class=\"dataframe\">\n",
       "  <thead>\n",
       "    <tr style=\"text-align: right;\">\n",
       "      <th></th>\n",
       "      <th>InvoiceNo</th>\n",
       "      <th>StockCode</th>\n",
       "      <th>Description</th>\n",
       "      <th>Quantity</th>\n",
       "      <th>InvoiceDate</th>\n",
       "      <th>UnitPrice</th>\n",
       "      <th>CustomerID</th>\n",
       "      <th>Country</th>\n",
       "      <th>isChurn</th>\n",
       "    </tr>\n",
       "  </thead>\n",
       "  <tbody>\n",
       "    <tr>\n",
       "      <th>0</th>\n",
       "      <td>536365</td>\n",
       "      <td>85123A</td>\n",
       "      <td>WHITE HANGING HEART T-LIGHT HOLDER</td>\n",
       "      <td>6</td>\n",
       "      <td>2010-12-01 08:26:00</td>\n",
       "      <td>2.55</td>\n",
       "      <td>17850.0</td>\n",
       "      <td>United Kingdom</td>\n",
       "      <td>0</td>\n",
       "    </tr>\n",
       "    <tr>\n",
       "      <th>1</th>\n",
       "      <td>536365</td>\n",
       "      <td>71053</td>\n",
       "      <td>WHITE METAL LANTERN</td>\n",
       "      <td>6</td>\n",
       "      <td>2010-12-01 08:26:00</td>\n",
       "      <td>3.39</td>\n",
       "      <td>17850.0</td>\n",
       "      <td>United Kingdom</td>\n",
       "      <td>0</td>\n",
       "    </tr>\n",
       "    <tr>\n",
       "      <th>2</th>\n",
       "      <td>536365</td>\n",
       "      <td>84406B</td>\n",
       "      <td>CREAM CUPID HEARTS COAT HANGER</td>\n",
       "      <td>8</td>\n",
       "      <td>2010-12-01 08:26:00</td>\n",
       "      <td>2.75</td>\n",
       "      <td>17850.0</td>\n",
       "      <td>United Kingdom</td>\n",
       "      <td>0</td>\n",
       "    </tr>\n",
       "    <tr>\n",
       "      <th>3</th>\n",
       "      <td>536365</td>\n",
       "      <td>84029G</td>\n",
       "      <td>KNITTED UNION FLAG HOT WATER BOTTLE</td>\n",
       "      <td>6</td>\n",
       "      <td>2010-12-01 08:26:00</td>\n",
       "      <td>3.39</td>\n",
       "      <td>17850.0</td>\n",
       "      <td>United Kingdom</td>\n",
       "      <td>0</td>\n",
       "    </tr>\n",
       "    <tr>\n",
       "      <th>4</th>\n",
       "      <td>536365</td>\n",
       "      <td>84029E</td>\n",
       "      <td>RED WOOLLY HOTTIE WHITE HEART.</td>\n",
       "      <td>6</td>\n",
       "      <td>2010-12-01 08:26:00</td>\n",
       "      <td>3.39</td>\n",
       "      <td>17850.0</td>\n",
       "      <td>United Kingdom</td>\n",
       "      <td>0</td>\n",
       "    </tr>\n",
       "  </tbody>\n",
       "</table>\n",
       "</div>"
      ],
      "text/plain": [
       "  InvoiceNo StockCode                          Description  Quantity  \\\n",
       "0    536365    85123A   WHITE HANGING HEART T-LIGHT HOLDER         6   \n",
       "1    536365     71053                  WHITE METAL LANTERN         6   \n",
       "2    536365    84406B       CREAM CUPID HEARTS COAT HANGER         8   \n",
       "3    536365    84029G  KNITTED UNION FLAG HOT WATER BOTTLE         6   \n",
       "4    536365    84029E       RED WOOLLY HOTTIE WHITE HEART.         6   \n",
       "\n",
       "          InvoiceDate  UnitPrice  CustomerID         Country  isChurn  \n",
       "0 2010-12-01 08:26:00       2.55     17850.0  United Kingdom        0  \n",
       "1 2010-12-01 08:26:00       3.39     17850.0  United Kingdom        0  \n",
       "2 2010-12-01 08:26:00       2.75     17850.0  United Kingdom        0  \n",
       "3 2010-12-01 08:26:00       3.39     17850.0  United Kingdom        0  \n",
       "4 2010-12-01 08:26:00       3.39     17850.0  United Kingdom        0  "
      ]
     },
     "execution_count": 38,
     "metadata": {},
     "output_type": "execute_result"
    }
   ],
   "source": [
    "train_set.head()"
   ]
  },
  {
   "cell_type": "code",
   "execution_count": 39,
   "metadata": {},
   "outputs": [
    {
     "data": {
      "text/plain": [
       "InvoiceNo      231183\n",
       "StockCode      231183\n",
       "Description    231183\n",
       "Quantity       231183\n",
       "InvoiceDate    231183\n",
       "UnitPrice      231183\n",
       "CustomerID     231183\n",
       "Country        231183\n",
       "isChurn        231183\n",
       "dtype: int64"
      ]
     },
     "execution_count": 39,
     "metadata": {},
     "output_type": "execute_result"
    }
   ],
   "source": [
    "train_set.count()"
   ]
  },
  {
   "cell_type": "markdown",
   "metadata": {},
   "source": [
    "# FEATURE SELECTION"
   ]
  },
  {
   "cell_type": "code",
   "execution_count": 40,
   "metadata": {},
   "outputs": [
    {
     "data": {
      "text/plain": [
       "{'United Kingdom': 0,\n",
       " 'France': 1,\n",
       " 'Australia': 2,\n",
       " 'Netherlands': 3,\n",
       " 'Germany': 4,\n",
       " 'Norway': 5,\n",
       " 'EIRE': 6,\n",
       " 'Switzerland': 7,\n",
       " 'Spain': 8,\n",
       " 'Poland': 9,\n",
       " 'Portugal': 10,\n",
       " 'Italy': 11,\n",
       " 'Belgium': 12,\n",
       " 'Lithuania': 13,\n",
       " 'Japan': 14,\n",
       " 'Iceland': 15,\n",
       " 'Channel Islands': 16,\n",
       " 'Denmark': 17,\n",
       " 'Cyprus': 18,\n",
       " 'Sweden': 19,\n",
       " 'Austria': 20,\n",
       " 'Israel': 21,\n",
       " 'Finland': 22,\n",
       " 'Greece': 23,\n",
       " 'Singapore': 24,\n",
       " 'Lebanon': 25,\n",
       " 'United Arab Emirates': 26,\n",
       " 'Saudi Arabia': 27,\n",
       " 'Czech Republic': 28,\n",
       " 'Canada': 29,\n",
       " 'Unspecified': 30,\n",
       " 'Brazil': 31,\n",
       " 'USA': 32,\n",
       " 'European Community': 33,\n",
       " 'Bahrain': 34,\n",
       " 'Malta': 35}"
      ]
     },
     "execution_count": 40,
     "metadata": {},
     "output_type": "execute_result"
    }
   ],
   "source": [
    "#taking care of country\n",
    "countries_dic={}\n",
    "\n",
    "countries=train_set['Country'].unique()\n",
    "for i,y in enumerate(countries):\n",
    "    countries_dic[y]=i\n",
    "countries_dic\n"
   ]
  },
  {
   "cell_type": "markdown",
   "metadata": {},
   "source": [
    "## ASSIGNING COUNTRY CODES "
   ]
  },
  {
   "cell_type": "code",
   "execution_count": 41,
   "metadata": {},
   "outputs": [],
   "source": [
    "train_set['Country']=[countries_dic[x] for x in train_set['Country']]\n",
    "\n"
   ]
  },
  {
   "cell_type": "code",
   "execution_count": 42,
   "metadata": {},
   "outputs": [
    {
     "data": {
      "text/plain": [
       "array([ 0,  1,  2,  3,  4,  5,  6,  7,  8,  9, 10, 11, 12, 13, 14, 15, 16,\n",
       "       17, 18, 19, 20, 21, 22, 23, 24, 25, 26, 27, 28, 29, 30, 31, 32, 33,\n",
       "       34, 35], dtype=int64)"
      ]
     },
     "execution_count": 42,
     "metadata": {},
     "output_type": "execute_result"
    }
   ],
   "source": [
    "train_set['Country'].unique()\n",
    "#we assign country codes instead of country names"
   ]
  },
  {
   "cell_type": "code",
   "execution_count": 43,
   "metadata": {},
   "outputs": [
    {
     "data": {
      "text/html": [
       "<div>\n",
       "<style scoped>\n",
       "    .dataframe tbody tr th:only-of-type {\n",
       "        vertical-align: middle;\n",
       "    }\n",
       "\n",
       "    .dataframe tbody tr th {\n",
       "        vertical-align: top;\n",
       "    }\n",
       "\n",
       "    .dataframe thead th {\n",
       "        text-align: right;\n",
       "    }\n",
       "</style>\n",
       "<table border=\"1\" class=\"dataframe\">\n",
       "  <thead>\n",
       "    <tr style=\"text-align: right;\">\n",
       "      <th></th>\n",
       "      <th>InvoiceNo</th>\n",
       "      <th>StockCode</th>\n",
       "      <th>Description</th>\n",
       "      <th>Quantity</th>\n",
       "      <th>InvoiceDate</th>\n",
       "      <th>UnitPrice</th>\n",
       "      <th>CustomerID</th>\n",
       "      <th>Country</th>\n",
       "      <th>isChurn</th>\n",
       "    </tr>\n",
       "  </thead>\n",
       "  <tbody>\n",
       "    <tr>\n",
       "      <th>0</th>\n",
       "      <td>536365</td>\n",
       "      <td>85123A</td>\n",
       "      <td>WHITE HANGING HEART T-LIGHT HOLDER</td>\n",
       "      <td>6</td>\n",
       "      <td>2010-12-01 08:26:00</td>\n",
       "      <td>2.55</td>\n",
       "      <td>17850.0</td>\n",
       "      <td>0</td>\n",
       "      <td>0</td>\n",
       "    </tr>\n",
       "    <tr>\n",
       "      <th>1</th>\n",
       "      <td>536365</td>\n",
       "      <td>71053</td>\n",
       "      <td>WHITE METAL LANTERN</td>\n",
       "      <td>6</td>\n",
       "      <td>2010-12-01 08:26:00</td>\n",
       "      <td>3.39</td>\n",
       "      <td>17850.0</td>\n",
       "      <td>0</td>\n",
       "      <td>0</td>\n",
       "    </tr>\n",
       "    <tr>\n",
       "      <th>2</th>\n",
       "      <td>536365</td>\n",
       "      <td>84406B</td>\n",
       "      <td>CREAM CUPID HEARTS COAT HANGER</td>\n",
       "      <td>8</td>\n",
       "      <td>2010-12-01 08:26:00</td>\n",
       "      <td>2.75</td>\n",
       "      <td>17850.0</td>\n",
       "      <td>0</td>\n",
       "      <td>0</td>\n",
       "    </tr>\n",
       "    <tr>\n",
       "      <th>3</th>\n",
       "      <td>536365</td>\n",
       "      <td>84029G</td>\n",
       "      <td>KNITTED UNION FLAG HOT WATER BOTTLE</td>\n",
       "      <td>6</td>\n",
       "      <td>2010-12-01 08:26:00</td>\n",
       "      <td>3.39</td>\n",
       "      <td>17850.0</td>\n",
       "      <td>0</td>\n",
       "      <td>0</td>\n",
       "    </tr>\n",
       "    <tr>\n",
       "      <th>4</th>\n",
       "      <td>536365</td>\n",
       "      <td>84029E</td>\n",
       "      <td>RED WOOLLY HOTTIE WHITE HEART.</td>\n",
       "      <td>6</td>\n",
       "      <td>2010-12-01 08:26:00</td>\n",
       "      <td>3.39</td>\n",
       "      <td>17850.0</td>\n",
       "      <td>0</td>\n",
       "      <td>0</td>\n",
       "    </tr>\n",
       "  </tbody>\n",
       "</table>\n",
       "</div>"
      ],
      "text/plain": [
       "  InvoiceNo StockCode                          Description  Quantity  \\\n",
       "0    536365    85123A   WHITE HANGING HEART T-LIGHT HOLDER         6   \n",
       "1    536365     71053                  WHITE METAL LANTERN         6   \n",
       "2    536365    84406B       CREAM CUPID HEARTS COAT HANGER         8   \n",
       "3    536365    84029G  KNITTED UNION FLAG HOT WATER BOTTLE         6   \n",
       "4    536365    84029E       RED WOOLLY HOTTIE WHITE HEART.         6   \n",
       "\n",
       "          InvoiceDate  UnitPrice  CustomerID  Country  isChurn  \n",
       "0 2010-12-01 08:26:00       2.55     17850.0        0        0  \n",
       "1 2010-12-01 08:26:00       3.39     17850.0        0        0  \n",
       "2 2010-12-01 08:26:00       2.75     17850.0        0        0  \n",
       "3 2010-12-01 08:26:00       3.39     17850.0        0        0  \n",
       "4 2010-12-01 08:26:00       3.39     17850.0        0        0  "
      ]
     },
     "execution_count": 43,
     "metadata": {},
     "output_type": "execute_result"
    }
   ],
   "source": [
    "\n",
    "train_set.head()"
   ]
  },
  {
   "cell_type": "code",
   "execution_count": 44,
   "metadata": {},
   "outputs": [
    {
     "data": {
      "text/plain": [
       "InvoiceNo      231183\n",
       "StockCode      231183\n",
       "Description    231183\n",
       "Quantity       231183\n",
       "InvoiceDate    231183\n",
       "UnitPrice      231183\n",
       "CustomerID     231183\n",
       "Country        231183\n",
       "isChurn        231183\n",
       "dtype: int64"
      ]
     },
     "execution_count": 44,
     "metadata": {},
     "output_type": "execute_result"
    }
   ],
   "source": [
    "train_set.count()"
   ]
  },
  {
   "cell_type": "code",
   "execution_count": 45,
   "metadata": {},
   "outputs": [
    {
     "data": {
      "text/plain": [
       "Index(['InvoiceNo', 'StockCode', 'Description', 'Quantity', 'InvoiceDate',\n",
       "       'UnitPrice', 'CustomerID', 'Country', 'isChurn'],\n",
       "      dtype='object')"
      ]
     },
     "execution_count": 45,
     "metadata": {},
     "output_type": "execute_result"
    }
   ],
   "source": [
    "train_set.columns"
   ]
  },
  {
   "cell_type": "markdown",
   "metadata": {},
   "source": [
    "## USING STOCKCODE AS A FEATURE"
   ]
  },
  {
   "cell_type": "code",
   "execution_count": 46,
   "metadata": {},
   "outputs": [
    {
     "data": {
      "text/plain": [
       "3412"
      ]
     },
     "execution_count": 46,
     "metadata": {},
     "output_type": "execute_result"
    }
   ],
   "source": [
    "len(train_set['StockCode'].unique())"
   ]
  },
  {
   "cell_type": "markdown",
   "metadata": {},
   "source": [
    "### DROPPING DESCRIPTION AS IT IS IRRELEVANT\n"
   ]
  },
  {
   "cell_type": "code",
   "execution_count": 47,
   "metadata": {},
   "outputs": [],
   "source": [
    "train_set=train_set.drop(['Description'],axis=1)"
   ]
  },
  {
   "cell_type": "code",
   "execution_count": 48,
   "metadata": {},
   "outputs": [
    {
     "name": "stderr",
     "output_type": "stream",
     "text": [
      "C:\\Users\\235hk\\AppData\\Local\\Temp\\ipykernel_6688\\1549996619.py:4: FutureWarning: The default value of regex will change from True to False in a future version.\n",
      "  train_set['StockCode']=train_set['StockCode'].str.replace('\\D', '')\n"
     ]
    }
   ],
   "source": [
    "#stock code has some letters\n",
    "#lets remove them and use it as a feature\n",
    "\n",
    "train_set['StockCode']=train_set['StockCode'].str.replace('\\D', '')\n",
    "\n",
    "    "
   ]
  },
  {
   "cell_type": "code",
   "execution_count": 49,
   "metadata": {},
   "outputs": [],
   "source": [
    "train_set=train_set[train_set['StockCode']!='']"
   ]
  },
  {
   "cell_type": "code",
   "execution_count": 50,
   "metadata": {},
   "outputs": [],
   "source": [
    "train_set['StockCode'] = train_set['StockCode'].fillna(0)\n",
    "train_set['StockCode']=train_set['StockCode'].astype(int)"
   ]
  },
  {
   "cell_type": "code",
   "execution_count": 51,
   "metadata": {},
   "outputs": [
    {
     "data": {
      "text/html": [
       "<div>\n",
       "<style scoped>\n",
       "    .dataframe tbody tr th:only-of-type {\n",
       "        vertical-align: middle;\n",
       "    }\n",
       "\n",
       "    .dataframe tbody tr th {\n",
       "        vertical-align: top;\n",
       "    }\n",
       "\n",
       "    .dataframe thead th {\n",
       "        text-align: right;\n",
       "    }\n",
       "</style>\n",
       "<table border=\"1\" class=\"dataframe\">\n",
       "  <thead>\n",
       "    <tr style=\"text-align: right;\">\n",
       "      <th></th>\n",
       "      <th>InvoiceNo</th>\n",
       "      <th>StockCode</th>\n",
       "      <th>Quantity</th>\n",
       "      <th>InvoiceDate</th>\n",
       "      <th>UnitPrice</th>\n",
       "      <th>CustomerID</th>\n",
       "      <th>Country</th>\n",
       "      <th>isChurn</th>\n",
       "    </tr>\n",
       "  </thead>\n",
       "  <tbody>\n",
       "    <tr>\n",
       "      <th>0</th>\n",
       "      <td>536365</td>\n",
       "      <td>85123</td>\n",
       "      <td>6</td>\n",
       "      <td>2010-12-01 08:26:00</td>\n",
       "      <td>2.55</td>\n",
       "      <td>17850.0</td>\n",
       "      <td>0</td>\n",
       "      <td>0</td>\n",
       "    </tr>\n",
       "    <tr>\n",
       "      <th>1</th>\n",
       "      <td>536365</td>\n",
       "      <td>0</td>\n",
       "      <td>6</td>\n",
       "      <td>2010-12-01 08:26:00</td>\n",
       "      <td>3.39</td>\n",
       "      <td>17850.0</td>\n",
       "      <td>0</td>\n",
       "      <td>0</td>\n",
       "    </tr>\n",
       "    <tr>\n",
       "      <th>2</th>\n",
       "      <td>536365</td>\n",
       "      <td>84406</td>\n",
       "      <td>8</td>\n",
       "      <td>2010-12-01 08:26:00</td>\n",
       "      <td>2.75</td>\n",
       "      <td>17850.0</td>\n",
       "      <td>0</td>\n",
       "      <td>0</td>\n",
       "    </tr>\n",
       "    <tr>\n",
       "      <th>3</th>\n",
       "      <td>536365</td>\n",
       "      <td>84029</td>\n",
       "      <td>6</td>\n",
       "      <td>2010-12-01 08:26:00</td>\n",
       "      <td>3.39</td>\n",
       "      <td>17850.0</td>\n",
       "      <td>0</td>\n",
       "      <td>0</td>\n",
       "    </tr>\n",
       "    <tr>\n",
       "      <th>4</th>\n",
       "      <td>536365</td>\n",
       "      <td>84029</td>\n",
       "      <td>6</td>\n",
       "      <td>2010-12-01 08:26:00</td>\n",
       "      <td>3.39</td>\n",
       "      <td>17850.0</td>\n",
       "      <td>0</td>\n",
       "      <td>0</td>\n",
       "    </tr>\n",
       "    <tr>\n",
       "      <th>...</th>\n",
       "      <td>...</td>\n",
       "      <td>...</td>\n",
       "      <td>...</td>\n",
       "      <td>...</td>\n",
       "      <td>...</td>\n",
       "      <td>...</td>\n",
       "      <td>...</td>\n",
       "      <td>...</td>\n",
       "    </tr>\n",
       "    <tr>\n",
       "      <th>319395</th>\n",
       "      <td>564852</td>\n",
       "      <td>0</td>\n",
       "      <td>10</td>\n",
       "      <td>2011-08-30 17:23:00</td>\n",
       "      <td>1.45</td>\n",
       "      <td>14976.0</td>\n",
       "      <td>0</td>\n",
       "      <td>1</td>\n",
       "    </tr>\n",
       "    <tr>\n",
       "      <th>319396</th>\n",
       "      <td>564852</td>\n",
       "      <td>0</td>\n",
       "      <td>3</td>\n",
       "      <td>2011-08-30 17:23:00</td>\n",
       "      <td>5.95</td>\n",
       "      <td>14976.0</td>\n",
       "      <td>0</td>\n",
       "      <td>1</td>\n",
       "    </tr>\n",
       "    <tr>\n",
       "      <th>319397</th>\n",
       "      <td>564852</td>\n",
       "      <td>0</td>\n",
       "      <td>7</td>\n",
       "      <td>2011-08-30 17:23:00</td>\n",
       "      <td>2.10</td>\n",
       "      <td>14976.0</td>\n",
       "      <td>0</td>\n",
       "      <td>1</td>\n",
       "    </tr>\n",
       "    <tr>\n",
       "      <th>319398</th>\n",
       "      <td>564852</td>\n",
       "      <td>0</td>\n",
       "      <td>10</td>\n",
       "      <td>2011-08-30 17:23:00</td>\n",
       "      <td>0.79</td>\n",
       "      <td>14976.0</td>\n",
       "      <td>0</td>\n",
       "      <td>1</td>\n",
       "    </tr>\n",
       "    <tr>\n",
       "      <th>319399</th>\n",
       "      <td>564852</td>\n",
       "      <td>0</td>\n",
       "      <td>2</td>\n",
       "      <td>2011-08-30 17:23:00</td>\n",
       "      <td>6.25</td>\n",
       "      <td>14976.0</td>\n",
       "      <td>0</td>\n",
       "      <td>1</td>\n",
       "    </tr>\n",
       "  </tbody>\n",
       "</table>\n",
       "<p>230128 rows × 8 columns</p>\n",
       "</div>"
      ],
      "text/plain": [
       "       InvoiceNo  StockCode  Quantity         InvoiceDate  UnitPrice  \\\n",
       "0         536365      85123         6 2010-12-01 08:26:00       2.55   \n",
       "1         536365          0         6 2010-12-01 08:26:00       3.39   \n",
       "2         536365      84406         8 2010-12-01 08:26:00       2.75   \n",
       "3         536365      84029         6 2010-12-01 08:26:00       3.39   \n",
       "4         536365      84029         6 2010-12-01 08:26:00       3.39   \n",
       "...          ...        ...       ...                 ...        ...   \n",
       "319395    564852          0        10 2011-08-30 17:23:00       1.45   \n",
       "319396    564852          0         3 2011-08-30 17:23:00       5.95   \n",
       "319397    564852          0         7 2011-08-30 17:23:00       2.10   \n",
       "319398    564852          0        10 2011-08-30 17:23:00       0.79   \n",
       "319399    564852          0         2 2011-08-30 17:23:00       6.25   \n",
       "\n",
       "        CustomerID  Country  isChurn  \n",
       "0          17850.0        0        0  \n",
       "1          17850.0        0        0  \n",
       "2          17850.0        0        0  \n",
       "3          17850.0        0        0  \n",
       "4          17850.0        0        0  \n",
       "...            ...      ...      ...  \n",
       "319395     14976.0        0        1  \n",
       "319396     14976.0        0        1  \n",
       "319397     14976.0        0        1  \n",
       "319398     14976.0        0        1  \n",
       "319399     14976.0        0        1  \n",
       "\n",
       "[230128 rows x 8 columns]"
      ]
     },
     "execution_count": 51,
     "metadata": {},
     "output_type": "execute_result"
    }
   ],
   "source": [
    "train_set"
   ]
  },
  {
   "cell_type": "markdown",
   "metadata": {},
   "source": [
    "### DROPPING INVOICE NUMBER AS IT IS IRRELEVANT\n"
   ]
  },
  {
   "cell_type": "code",
   "execution_count": 52,
   "metadata": {},
   "outputs": [],
   "source": [
    "train_set['CustomerID']=train_set['CustomerID'].astype(int)\n",
    "\n",
    "# Dropping invoice no\n",
    "train_set=train_set.drop(['InvoiceNo'],axis=1)"
   ]
  },
  {
   "cell_type": "markdown",
   "metadata": {},
   "source": [
    "## USING DATE AS A FEATURE"
   ]
  },
  {
   "cell_type": "code",
   "execution_count": 53,
   "metadata": {},
   "outputs": [],
   "source": [
    "#converting date to features\n",
    "\n",
    "train_set['month']=train_set['InvoiceDate'].dt.month.astype(int)\n",
    "train_set['year']=train_set['InvoiceDate'].dt.year.astype(int)\n",
    "train_set['day']=train_set['InvoiceDate'].dt.day.astype(int)\n",
    "train_set['hour']=train_set['InvoiceDate'].dt.hour.astype(int)\n",
    "\n",
    "train_set=train_set.drop(['InvoiceDate'],axis=1)"
   ]
  },
  {
   "cell_type": "code",
   "execution_count": 54,
   "metadata": {},
   "outputs": [
    {
     "data": {
      "text/plain": [
       "Index(['StockCode', 'Quantity', 'UnitPrice', 'CustomerID', 'Country',\n",
       "       'isChurn', 'month', 'year', 'day', 'hour'],\n",
       "      dtype='object')"
      ]
     },
     "execution_count": 54,
     "metadata": {},
     "output_type": "execute_result"
    }
   ],
   "source": [
    "train_set.columns"
   ]
  },
  {
   "cell_type": "code",
   "execution_count": 55,
   "metadata": {},
   "outputs": [
    {
     "data": {
      "text/plain": [
       "<seaborn.axisgrid.JointGrid at 0x22492c17700>"
      ]
     },
     "execution_count": 55,
     "metadata": {},
     "output_type": "execute_result"
    },
    {
     "data": {
      "image/png": "[encoded data removed]",
      "text/plain": [
       "<Figure size 600x600 with 3 Axes>"
      ]
     },
     "metadata": {},
     "output_type": "display_data"
    },
    {
     "data": {
      "image/png": "[encoded data removed]",
      "text/plain": [
       "<Figure size 600x600 with 3 Axes>"
      ]
     },
     "metadata": {},
     "output_type": "display_data"
    },
    {
     "data": {
      "image/png": "[encoded data removed]",
      "text/plain": [
       "<Figure size 600x600 with 3 Axes>"
      ]
     },
     "metadata": {},
     "output_type": "display_data"
    },
    {
     "data": {
      "image/png": "[encoded data removed]",
      "text/plain": [
       "<Figure size 600x600 with 3 Axes>"
      ]
     },
     "metadata": {},
     "output_type": "display_data"
    },
    {
     "data": {
      "image/png": "[encoded data removed]",
      "text/plain": [
       "<Figure size 600x600 with 3 Axes>"
      ]
     },
     "metadata": {},
     "output_type": "display_data"
    },
    {
     "data": {
      "image/png": "[encoded data removed]",
      "text/plain": [
       "<Figure size 600x600 with 3 Axes>"
      ]
     },
     "metadata": {},
     "output_type": "display_data"
    },
    {
     "data": {
      "image/png": "[encoded data removed]",
      "text/plain": [
       "<Figure size 600x600 with 3 Axes>"
      ]
     },
     "metadata": {},
     "output_type": "display_data"
    },
    {
     "data": {
      "image/png": "[encoded data removed]",
      "text/plain": [
       "<Figure size 600x600 with 3 Axes>"
      ]
     },
     "metadata": {},
     "output_type": "display_data"
    },
    {
     "data": {
      "image/png": "[encoded data removed]",
      "text/plain": [
       "<Figure size 600x600 with 3 Axes>"
      ]
     },
     "metadata": {},
     "output_type": "display_data"
    }
   ],
   "source": [
    "sns.jointplot(data=train_set, x='Country', y='isChurn', kind='reg', color='g')\n",
    "sns.jointplot(data=train_set, x='StockCode', y='isChurn', kind='reg', color='g')\n",
    "sns.jointplot(data=train_set, x='month', y='isChurn', kind='reg', color='g')\n",
    "sns.jointplot(data=train_set, x='year', y='isChurn', kind='reg', color='g')\n",
    "sns.jointplot(data=train_set, x='day', y='isChurn', kind='reg', color='g')\n",
    "sns.jointplot(data=train_set, x='hour', y='isChurn', kind='reg', color='g')\n",
    "sns.jointplot(data=train_set, x='UnitPrice', y='isChurn', kind='reg', color='g')\n",
    "sns.jointplot(data=train_set, x='CustomerID', y='isChurn', kind='reg', color='g')\n",
    "sns.jointplot(data=train_set, x='Quantity', y='isChurn', kind='reg', color='g')"
   ]
  },
  {
   "cell_type": "code",
   "execution_count": 56,
   "metadata": {},
   "outputs": [
    {
     "data": {
      "text/plain": [
       "<AxesSubplot: >"
      ]
     },
     "execution_count": 56,
     "metadata": {},
     "output_type": "execute_result"
    },
    {
     "data": {
      "image/png": "[encoded data removed]",
      "text/plain": [
       "<Figure size 640x480 with 2 Axes>"
      ]
     },
     "metadata": {},
     "output_type": "display_data"
    }
   ],
   "source": [
    "sns.heatmap(train_set.corr())"
   ]
  },
  {
   "cell_type": "code",
   "execution_count": 57,
   "metadata": {},
   "outputs": [
    {
     "data": {
      "text/html": [
       "<div>\n",
       "<style scoped>\n",
       "    .dataframe tbody tr th:only-of-type {\n",
       "        vertical-align: middle;\n",
       "    }\n",
       "\n",
       "    .dataframe tbody tr th {\n",
       "        vertical-align: top;\n",
       "    }\n",
       "\n",
       "    .dataframe thead th {\n",
       "        text-align: right;\n",
       "    }\n",
       "</style>\n",
       "<table border=\"1\" class=\"dataframe\">\n",
       "  <thead>\n",
       "    <tr style=\"text-align: right;\">\n",
       "      <th></th>\n",
       "      <th>StockCode</th>\n",
       "      <th>Quantity</th>\n",
       "      <th>UnitPrice</th>\n",
       "      <th>CustomerID</th>\n",
       "      <th>Country</th>\n",
       "      <th>isChurn</th>\n",
       "      <th>month</th>\n",
       "      <th>day</th>\n",
       "      <th>hour</th>\n",
       "    </tr>\n",
       "  </thead>\n",
       "  <tbody>\n",
       "    <tr>\n",
       "      <th>0</th>\n",
       "      <td>0.943568</td>\n",
       "      <td>-0.029790</td>\n",
       "      <td>-0.091041</td>\n",
       "      <td>0.926443</td>\n",
       "      <td>0.0</td>\n",
       "      <td>0</td>\n",
       "      <td>2.050745</td>\n",
       "      <td>-1.649149</td>\n",
       "      <td>-2.013723</td>\n",
       "    </tr>\n",
       "    <tr>\n",
       "      <th>1</th>\n",
       "      <td>0.000000</td>\n",
       "      <td>-0.029790</td>\n",
       "      <td>0.069807</td>\n",
       "      <td>0.926443</td>\n",
       "      <td>0.0</td>\n",
       "      <td>0</td>\n",
       "      <td>2.050745</td>\n",
       "      <td>-1.649149</td>\n",
       "      <td>-2.013723</td>\n",
       "    </tr>\n",
       "    <tr>\n",
       "      <th>2</th>\n",
       "      <td>0.935620</td>\n",
       "      <td>-0.020883</td>\n",
       "      <td>-0.052744</td>\n",
       "      <td>0.926443</td>\n",
       "      <td>0.0</td>\n",
       "      <td>0</td>\n",
       "      <td>2.050745</td>\n",
       "      <td>-1.649149</td>\n",
       "      <td>-2.013723</td>\n",
       "    </tr>\n",
       "    <tr>\n",
       "      <th>3</th>\n",
       "      <td>0.931441</td>\n",
       "      <td>-0.029790</td>\n",
       "      <td>0.069807</td>\n",
       "      <td>0.926443</td>\n",
       "      <td>0.0</td>\n",
       "      <td>0</td>\n",
       "      <td>2.050745</td>\n",
       "      <td>-1.649149</td>\n",
       "      <td>-2.013723</td>\n",
       "    </tr>\n",
       "    <tr>\n",
       "      <th>4</th>\n",
       "      <td>0.931441</td>\n",
       "      <td>-0.029790</td>\n",
       "      <td>0.069807</td>\n",
       "      <td>0.926443</td>\n",
       "      <td>0.0</td>\n",
       "      <td>0</td>\n",
       "      <td>2.050745</td>\n",
       "      <td>-1.649149</td>\n",
       "      <td>-2.013723</td>\n",
       "    </tr>\n",
       "    <tr>\n",
       "      <th>...</th>\n",
       "      <td>...</td>\n",
       "      <td>...</td>\n",
       "      <td>...</td>\n",
       "      <td>...</td>\n",
       "      <td>...</td>\n",
       "      <td>...</td>\n",
       "      <td>...</td>\n",
       "      <td>...</td>\n",
       "      <td>...</td>\n",
       "    </tr>\n",
       "    <tr>\n",
       "      <th>319395</th>\n",
       "      <td>0.000000</td>\n",
       "      <td>-0.011977</td>\n",
       "      <td>-0.301675</td>\n",
       "      <td>0.442686</td>\n",
       "      <td>0.0</td>\n",
       "      <td>1</td>\n",
       "      <td>0.781881</td>\n",
       "      <td>1.797567</td>\n",
       "      <td>1.879415</td>\n",
       "    </tr>\n",
       "    <tr>\n",
       "      <th>319396</th>\n",
       "      <td>0.000000</td>\n",
       "      <td>-0.043149</td>\n",
       "      <td>0.560010</td>\n",
       "      <td>0.442686</td>\n",
       "      <td>0.0</td>\n",
       "      <td>1</td>\n",
       "      <td>0.781881</td>\n",
       "      <td>1.797567</td>\n",
       "      <td>1.879415</td>\n",
       "    </tr>\n",
       "    <tr>\n",
       "      <th>319397</th>\n",
       "      <td>0.000000</td>\n",
       "      <td>-0.025336</td>\n",
       "      <td>-0.177209</td>\n",
       "      <td>0.442686</td>\n",
       "      <td>0.0</td>\n",
       "      <td>1</td>\n",
       "      <td>0.781881</td>\n",
       "      <td>1.797567</td>\n",
       "      <td>1.879415</td>\n",
       "    </tr>\n",
       "    <tr>\n",
       "      <th>319398</th>\n",
       "      <td>0.000000</td>\n",
       "      <td>-0.011977</td>\n",
       "      <td>-0.428055</td>\n",
       "      <td>0.442686</td>\n",
       "      <td>0.0</td>\n",
       "      <td>1</td>\n",
       "      <td>0.781881</td>\n",
       "      <td>1.797567</td>\n",
       "      <td>1.879415</td>\n",
       "    </tr>\n",
       "    <tr>\n",
       "      <th>319399</th>\n",
       "      <td>0.000000</td>\n",
       "      <td>-0.047602</td>\n",
       "      <td>0.617455</td>\n",
       "      <td>0.442686</td>\n",
       "      <td>0.0</td>\n",
       "      <td>1</td>\n",
       "      <td>0.781881</td>\n",
       "      <td>1.797567</td>\n",
       "      <td>1.879415</td>\n",
       "    </tr>\n",
       "  </tbody>\n",
       "</table>\n",
       "<p>230128 rows × 9 columns</p>\n",
       "</div>"
      ],
      "text/plain": [
       "        StockCode  Quantity  UnitPrice  CustomerID  Country  isChurn  \\\n",
       "0        0.943568 -0.029790  -0.091041    0.926443      0.0        0   \n",
       "1        0.000000 -0.029790   0.069807    0.926443      0.0        0   \n",
       "2        0.935620 -0.020883  -0.052744    0.926443      0.0        0   \n",
       "3        0.931441 -0.029790   0.069807    0.926443      0.0        0   \n",
       "4        0.931441 -0.029790   0.069807    0.926443      0.0        0   \n",
       "...           ...       ...        ...         ...      ...      ...   \n",
       "319395   0.000000 -0.011977  -0.301675    0.442686      0.0        1   \n",
       "319396   0.000000 -0.043149   0.560010    0.442686      0.0        1   \n",
       "319397   0.000000 -0.025336  -0.177209    0.442686      0.0        1   \n",
       "319398   0.000000 -0.011977  -0.428055    0.442686      0.0        1   \n",
       "319399   0.000000 -0.047602   0.617455    0.442686      0.0        1   \n",
       "\n",
       "           month       day      hour  \n",
       "0       2.050745 -1.649149 -2.013723  \n",
       "1       2.050745 -1.649149 -2.013723  \n",
       "2       2.050745 -1.649149 -2.013723  \n",
       "3       2.050745 -1.649149 -2.013723  \n",
       "4       2.050745 -1.649149 -2.013723  \n",
       "...          ...       ...       ...  \n",
       "319395  0.781881  1.797567  1.879415  \n",
       "319396  0.781881  1.797567  1.879415  \n",
       "319397  0.781881  1.797567  1.879415  \n",
       "319398  0.781881  1.797567  1.879415  \n",
       "319399  0.781881  1.797567  1.879415  \n",
       "\n",
       "[230128 rows x 9 columns]"
      ]
     },
     "execution_count": 57,
     "metadata": {},
     "output_type": "execute_result"
    }
   ],
   "source": [
    "#normalising train set\n",
    "from hmac import trans_36\n",
    "from sklearn.preprocessing import StandardScaler,MinMaxScaler\n",
    "scaler1=StandardScaler()\n",
    "scaler2=MinMaxScaler()\n",
    "\n",
    "train_set['StockCode']=scaler2.fit_transform(train_set[['StockCode']])\n",
    "train_set['CustomerID']=scaler2.fit_transform(train_set[['CustomerID']])\n",
    "train_set['Country']=scaler2.fit_transform(train_set[['Country']])\n",
    "\n",
    "train_set['Quantity']=scaler1.fit_transform(train_set[['Quantity']])\n",
    "train_set['UnitPrice']=scaler1.fit_transform(train_set[['UnitPrice']])\n",
    "train_set['month']=scaler1.fit_transform(train_set[['month']])\n",
    "train_set['year']=scaler1.fit_transform(train_set[['year']])\n",
    "train_set['day']=scaler1.fit_transform(train_set[['day']])\n",
    "train_set['hour']=scaler1.fit_transform(train_set[['hour']])\n",
    "\n",
    "\n",
    "#dropping useless cols\n",
    "train_set=train_set.drop(['year'],axis=1)\n",
    "\n",
    "\n",
    "train_set\n"
   ]
  },
  {
   "cell_type": "code",
   "execution_count": 58,
   "metadata": {},
   "outputs": [],
   "source": [
    "y=train_set['isChurn']\n",
    "x=train_set.drop(['isChurn'],axis=1)"
   ]
  },
  {
   "cell_type": "code",
   "execution_count": 59,
   "metadata": {},
   "outputs": [],
   "source": [
    "#dividing data set into train test and dev\n",
    "#80/20\n",
    "from sklearn.model_selection import train_test_split\n",
    "\n",
    "X_train,X_test,y_train,y_test = train_test_split(x,y,test_size=0.2,random_state=1)"
   ]
  },
  {
   "cell_type": "code",
   "execution_count": 60,
   "metadata": {},
   "outputs": [],
   "source": [
    "#80/20\n",
    "X_train,X_val,y_train,y_val = sk.model_selection.train_test_split(X_train,y_train,test_size=0.2,random_state=1)"
   ]
  },
  {
   "cell_type": "code",
   "execution_count": 61,
   "metadata": {},
   "outputs": [
    {
     "data": {
      "text/html": [
       "<style>#sk-container-id-1 {color: black;background-color: white;}#sk-container-id-1 pre{padding: 0;}#sk-container-id-1 div.sk-toggleable {background-color: white;}#sk-container-id-1 label.sk-toggleable__label {cursor: pointer;display: block;width: 100%;margin-bottom: 0;padding: 0.3em;box-sizing: border-box;text-align: center;}#sk-container-id-1 label.sk-toggleable__label-arrow:before {content: \"▸\";float: left;margin-right: 0.25em;color: #696969;}#sk-container-id-1 label.sk-toggleable__label-arrow:hover:before {color: black;}#sk-container-id-1 div.sk-estimator:hover label.sk-toggleable__label-arrow:before {color: black;}#sk-container-id-1 div.sk-toggleable__content {max-height: 0;max-width: 0;overflow: hidden;text-align: left;background-color: #f0f8ff;}#sk-container-id-1 div.sk-toggleable__content pre {margin: 0.2em;color: black;border-radius: 0.25em;background-color: #f0f8ff;}#sk-container-id-1 input.sk-toggleable__control:checked~div.sk-toggleable__content {max-height: 200px;max-width: 100%;overflow: auto;}#sk-container-id-1 input.sk-toggleable__control:checked~label.sk-toggleable__label-arrow:before {content: \"▾\";}#sk-container-id-1 div.sk-estimator input.sk-toggleable__control:checked~label.sk-toggleable__label {background-color: #d4ebff;}#sk-container-id-1 div.sk-label input.sk-toggleable__control:checked~label.sk-toggleable__label {background-color: #d4ebff;}#sk-container-id-1 input.sk-hidden--visually {border: 0;clip: rect(1px 1px 1px 1px);clip: rect(1px, 1px, 1px, 1px);height: 1px;margin: -1px;overflow: hidden;padding: 0;position: absolute;width: 1px;}#sk-container-id-1 div.sk-estimator {font-family: monospace;background-color: #f0f8ff;border: 1px dotted black;border-radius: 0.25em;box-sizing: border-box;margin-bottom: 0.5em;}#sk-container-id-1 div.sk-estimator:hover {background-color: #d4ebff;}#sk-container-id-1 div.sk-parallel-item::after {content: \"\";width: 100%;border-bottom: 1px solid gray;flex-grow: 1;}#sk-container-id-1 div.sk-label:hover label.sk-toggleable__label {background-color: #d4ebff;}#sk-container-id-1 div.sk-serial::before {content: \"\";position: absolute;border-left: 1px solid gray;box-sizing: border-box;top: 0;bottom: 0;left: 50%;z-index: 0;}#sk-container-id-1 div.sk-serial {display: flex;flex-direction: column;align-items: center;background-color: white;padding-right: 0.2em;padding-left: 0.2em;position: relative;}#sk-container-id-1 div.sk-item {position: relative;z-index: 1;}#sk-container-id-1 div.sk-parallel {display: flex;align-items: stretch;justify-content: center;background-color: white;position: relative;}#sk-container-id-1 div.sk-item::before, #sk-container-id-1 div.sk-parallel-item::before {content: \"\";position: absolute;border-left: 1px solid gray;box-sizing: border-box;top: 0;bottom: 0;left: 50%;z-index: -1;}#sk-container-id-1 div.sk-parallel-item {display: flex;flex-direction: column;z-index: 1;position: relative;background-color: white;}#sk-container-id-1 div.sk-parallel-item:first-child::after {align-self: flex-end;width: 50%;}#sk-container-id-1 div.sk-parallel-item:last-child::after {align-self: flex-start;width: 50%;}#sk-container-id-1 div.sk-parallel-item:only-child::after {width: 0;}#sk-container-id-1 div.sk-dashed-wrapped {border: 1px dashed gray;margin: 0 0.4em 0.5em 0.4em;box-sizing: border-box;padding-bottom: 0.4em;background-color: white;}#sk-container-id-1 div.sk-label label {font-family: monospace;font-weight: bold;display: inline-block;line-height: 1.2em;}#sk-container-id-1 div.sk-label-container {text-align: center;}#sk-container-id-1 div.sk-container {/* jupyter's `normalize.less` sets `[hidden] { display: none; }` but bootstrap.min.css set `[hidden] { display: none !important; }` so we also need the `!important` here to be able to override the default hidden behavior on the sphinx rendered scikit-learn.org. See: https://github.com/scikit-learn/scikit-learn/issues/21755 */display: inline-block !important;position: relative;}#sk-container-id-1 div.sk-text-repr-fallback {display: none;}</style><div id=\"sk-container-id-1\" class=\"sk-top-container\"><div class=\"sk-text-repr-fallback\"><pre>DecisionTreeClassifier()</pre><b>In a Jupyter environment, please rerun this cell to show the HTML representation or trust the notebook. <br />On GitHub, the HTML representation is unable to render, please try loading this page with nbviewer.org.</b></div><div class=\"sk-container\" hidden><div class=\"sk-item\"><div class=\"sk-estimator sk-toggleable\"><input class=\"sk-toggleable__control sk-hidden--visually\" id=\"sk-estimator-id-1\" type=\"checkbox\" checked><label for=\"sk-estimator-id-1\" class=\"sk-toggleable__label sk-toggleable__label-arrow\">DecisionTreeClassifier</label><div class=\"sk-toggleable__content\"><pre>DecisionTreeClassifier()</pre></div></div></div></div></div>"
      ],
      "text/plain": [
       "DecisionTreeClassifier()"
      ]
     },
     "execution_count": 61,
     "metadata": {},
     "output_type": "execute_result"
    }
   ],
   "source": [
    "#decision Tree\n",
    "\n",
    "from sklearn.tree import DecisionTreeClassifier\n",
    "\n",
    "model1=DecisionTreeClassifier()\n",
    "model1.fit(X_train,y_train)"
   ]
  },
  {
   "cell_type": "code",
   "execution_count": 62,
   "metadata": {},
   "outputs": [],
   "source": [
    "y_pred = model1.predict(X_test)"
   ]
  },
  {
   "cell_type": "code",
   "execution_count": 63,
   "metadata": {},
   "outputs": [
    {
     "name": "stdout",
     "output_type": "stream",
     "text": [
      "[[ 8587   213]\n",
      " [  265 36961]]\n",
      "              precision    recall  f1-score   support\n",
      "\n",
      "           0       0.97      0.98      0.97      8800\n",
      "           1       0.99      0.99      0.99     37226\n",
      "\n",
      "    accuracy                           0.99     46026\n",
      "   macro avg       0.98      0.98      0.98     46026\n",
      "weighted avg       0.99      0.99      0.99     46026\n",
      "\n"
     ]
    }
   ],
   "source": [
    "#evaluating decision tree\n",
    "from sklearn.metrics import classification_report, confusion_matrix\n",
    "print(confusion_matrix(y_test, y_pred))\n",
    "print(classification_report(y_test, y_pred))"
   ]
  },
  {
   "cell_type": "code",
   "execution_count": 64,
   "metadata": {},
   "outputs": [
    {
     "name": "stdout",
     "output_type": "stream",
     "text": [
      "[LibLinear]"
     ]
    },
    {
     "name": "stderr",
     "output_type": "stream",
     "text": [
      "C:\\Users\\235hk\\AppData\\Local\\Packages\\PythonSoftwareFoundation.Python.3.10_qbz5n2kfra8p0\\LocalCache\\local-packages\\Python310\\site-packages\\sklearn\\svm\\_base.py:1225: ConvergenceWarning: Liblinear failed to converge, increase the number of iterations.\n",
      "  warnings.warn(\n"
     ]
    },
    {
     "data": {
      "text/html": [
       "<style>#sk-container-id-2 {color: black;background-color: white;}#sk-container-id-2 pre{padding: 0;}#sk-container-id-2 div.sk-toggleable {background-color: white;}#sk-container-id-2 label.sk-toggleable__label {cursor: pointer;display: block;width: 100%;margin-bottom: 0;padding: 0.3em;box-sizing: border-box;text-align: center;}#sk-container-id-2 label.sk-toggleable__label-arrow:before {content: \"▸\";float: left;margin-right: 0.25em;color: #696969;}#sk-container-id-2 label.sk-toggleable__label-arrow:hover:before {color: black;}#sk-container-id-2 div.sk-estimator:hover label.sk-toggleable__label-arrow:before {color: black;}#sk-container-id-2 div.sk-toggleable__content {max-height: 0;max-width: 0;overflow: hidden;text-align: left;background-color: #f0f8ff;}#sk-container-id-2 div.sk-toggleable__content pre {margin: 0.2em;color: black;border-radius: 0.25em;background-color: #f0f8ff;}#sk-container-id-2 input.sk-toggleable__control:checked~div.sk-toggleable__content {max-height: 200px;max-width: 100%;overflow: auto;}#sk-container-id-2 input.sk-toggleable__control:checked~label.sk-toggleable__label-arrow:before {content: \"▾\";}#sk-container-id-2 div.sk-estimator input.sk-toggleable__control:checked~label.sk-toggleable__label {background-color: #d4ebff;}#sk-container-id-2 div.sk-label input.sk-toggleable__control:checked~label.sk-toggleable__label {background-color: #d4ebff;}#sk-container-id-2 input.sk-hidden--visually {border: 0;clip: rect(1px 1px 1px 1px);clip: rect(1px, 1px, 1px, 1px);height: 1px;margin: -1px;overflow: hidden;padding: 0;position: absolute;width: 1px;}#sk-container-id-2 div.sk-estimator {font-family: monospace;background-color: #f0f8ff;border: 1px dotted black;border-radius: 0.25em;box-sizing: border-box;margin-bottom: 0.5em;}#sk-container-id-2 div.sk-estimator:hover {background-color: #d4ebff;}#sk-container-id-2 div.sk-parallel-item::after {content: \"\";width: 100%;border-bottom: 1px solid gray;flex-grow: 1;}#sk-container-id-2 div.sk-label:hover label.sk-toggleable__label {background-color: #d4ebff;}#sk-container-id-2 div.sk-serial::before {content: \"\";position: absolute;border-left: 1px solid gray;box-sizing: border-box;top: 0;bottom: 0;left: 50%;z-index: 0;}#sk-container-id-2 div.sk-serial {display: flex;flex-direction: column;align-items: center;background-color: white;padding-right: 0.2em;padding-left: 0.2em;position: relative;}#sk-container-id-2 div.sk-item {position: relative;z-index: 1;}#sk-container-id-2 div.sk-parallel {display: flex;align-items: stretch;justify-content: center;background-color: white;position: relative;}#sk-container-id-2 div.sk-item::before, #sk-container-id-2 div.sk-parallel-item::before {content: \"\";position: absolute;border-left: 1px solid gray;box-sizing: border-box;top: 0;bottom: 0;left: 50%;z-index: -1;}#sk-container-id-2 div.sk-parallel-item {display: flex;flex-direction: column;z-index: 1;position: relative;background-color: white;}#sk-container-id-2 div.sk-parallel-item:first-child::after {align-self: flex-end;width: 50%;}#sk-container-id-2 div.sk-parallel-item:last-child::after {align-self: flex-start;width: 50%;}#sk-container-id-2 div.sk-parallel-item:only-child::after {width: 0;}#sk-container-id-2 div.sk-dashed-wrapped {border: 1px dashed gray;margin: 0 0.4em 0.5em 0.4em;box-sizing: border-box;padding-bottom: 0.4em;background-color: white;}#sk-container-id-2 div.sk-label label {font-family: monospace;font-weight: bold;display: inline-block;line-height: 1.2em;}#sk-container-id-2 div.sk-label-container {text-align: center;}#sk-container-id-2 div.sk-container {/* jupyter's `normalize.less` sets `[hidden] { display: none; }` but bootstrap.min.css set `[hidden] { display: none !important; }` so we also need the `!important` here to be able to override the default hidden behavior on the sphinx rendered scikit-learn.org. See: https://github.com/scikit-learn/scikit-learn/issues/21755 */display: inline-block !important;position: relative;}#sk-container-id-2 div.sk-text-repr-fallback {display: none;}</style><div id=\"sk-container-id-2\" class=\"sk-top-container\"><div class=\"sk-text-repr-fallback\"><pre>LinearSVC(max_iter=5000, verbose=True)</pre><b>In a Jupyter environment, please rerun this cell to show the HTML representation or trust the notebook. <br />On GitHub, the HTML representation is unable to render, please try loading this page with nbviewer.org.</b></div><div class=\"sk-container\" hidden><div class=\"sk-item\"><div class=\"sk-estimator sk-toggleable\"><input class=\"sk-toggleable__control sk-hidden--visually\" id=\"sk-estimator-id-2\" type=\"checkbox\" checked><label for=\"sk-estimator-id-2\" class=\"sk-toggleable__label sk-toggleable__label-arrow\">LinearSVC</label><div class=\"sk-toggleable__content\"><pre>LinearSVC(max_iter=5000, verbose=True)</pre></div></div></div></div></div>"
      ],
      "text/plain": [
       "LinearSVC(max_iter=5000, verbose=True)"
      ]
     },
     "execution_count": 64,
     "metadata": {},
     "output_type": "execute_result"
    }
   ],
   "source": [
    "#SVM\n",
    "from sklearn.svm import LinearSVC\n",
    "\n",
    "model2=LinearSVC(max_iter=5000,verbose=True)\n",
    "model2.fit(X_train,y_train)"
   ]
  },
  {
   "cell_type": "code",
   "execution_count": 65,
   "metadata": {},
   "outputs": [],
   "source": [
    "y_pred = model2.predict(X_test)"
   ]
  },
  {
   "cell_type": "code",
   "execution_count": 66,
   "metadata": {},
   "outputs": [
    {
     "name": "stdout",
     "output_type": "stream",
     "text": [
      "[[   23  8777]\n",
      " [   15 37211]]\n",
      "              precision    recall  f1-score   support\n",
      "\n",
      "           0       0.61      0.00      0.01      8800\n",
      "           1       0.81      1.00      0.89     37226\n",
      "\n",
      "    accuracy                           0.81     46026\n",
      "   macro avg       0.71      0.50      0.45     46026\n",
      "weighted avg       0.77      0.81      0.72     46026\n",
      "\n"
     ]
    }
   ],
   "source": [
    "#evaluating SVM\n",
    "from sklearn.metrics import classification_report, confusion_matrix\n",
    "print(confusion_matrix(y_test, y_pred))\n",
    "print(classification_report(y_test, y_pred))"
   ]
  },
  {
   "cell_type": "code",
   "execution_count": 67,
   "metadata": {},
   "outputs": [
    {
     "name": "stdout",
     "output_type": "stream",
     "text": [
      "Iteration 1, loss = 0.49988285\n",
      "Iteration 2, loss = 0.48078784\n",
      "Iteration 3, loss = 0.47828295\n",
      "Iteration 4, loss = 0.47676584\n",
      "Iteration 5, loss = 0.47544151\n",
      "Iteration 6, loss = 0.47428081\n",
      "Iteration 7, loss = 0.47319203\n",
      "Iteration 8, loss = 0.47217611\n",
      "Iteration 9, loss = 0.47119801\n",
      "Iteration 10, loss = 0.47037542\n",
      "Iteration 11, loss = 0.46959270\n",
      "Iteration 12, loss = 0.46907251\n",
      "Iteration 13, loss = 0.46821480\n",
      "Iteration 14, loss = 0.46766048\n",
      "Iteration 15, loss = 0.46708671\n",
      "Iteration 16, loss = 0.46655833\n",
      "Iteration 17, loss = 0.46618331\n",
      "Iteration 18, loss = 0.46586744\n",
      "Iteration 19, loss = 0.46523782\n",
      "Iteration 20, loss = 0.46488831\n",
      "Iteration 21, loss = 0.46436361\n",
      "Iteration 22, loss = 0.46399547\n",
      "Iteration 23, loss = 0.46362334\n",
      "Iteration 24, loss = 0.46316915\n",
      "Iteration 25, loss = 0.46298928\n",
      "Iteration 26, loss = 0.46265595\n",
      "Iteration 27, loss = 0.46217573\n",
      "Iteration 28, loss = 0.46182738\n",
      "Iteration 29, loss = 0.46161095\n",
      "Iteration 30, loss = 0.46155129\n",
      "Iteration 31, loss = 0.46103229\n",
      "Iteration 32, loss = 0.46050738\n",
      "Iteration 33, loss = 0.46037636\n",
      "Iteration 34, loss = 0.46018419\n",
      "Iteration 35, loss = 0.45953276\n",
      "Iteration 36, loss = 0.45932607\n",
      "Iteration 37, loss = 0.45915213\n",
      "Iteration 38, loss = 0.45884528\n",
      "Iteration 39, loss = 0.45865331\n",
      "Iteration 40, loss = 0.45815527\n",
      "Iteration 41, loss = 0.45786307\n",
      "Iteration 42, loss = 0.45773480\n",
      "Iteration 43, loss = 0.45747069\n",
      "Iteration 44, loss = 0.45707325\n",
      "Iteration 45, loss = 0.45701448\n",
      "Iteration 46, loss = 0.45692605\n",
      "Iteration 47, loss = 0.45638328\n",
      "Iteration 48, loss = 0.45643426\n",
      "Iteration 49, loss = 0.45611511\n",
      "Iteration 50, loss = 0.45587512\n",
      "Iteration 51, loss = 0.45569078\n",
      "Iteration 52, loss = 0.45571338\n",
      "Iteration 53, loss = 0.45548555\n",
      "Iteration 54, loss = 0.45483784\n",
      "Iteration 55, loss = 0.45466322\n",
      "Iteration 56, loss = 0.45443503\n",
      "Iteration 57, loss = 0.45449248\n",
      "Iteration 58, loss = 0.45430525\n",
      "Iteration 59, loss = 0.45407432\n",
      "Iteration 60, loss = 0.45364272\n",
      "Iteration 61, loss = 0.45329242\n",
      "Iteration 62, loss = 0.45336021\n",
      "Iteration 63, loss = 0.45273419\n",
      "Iteration 64, loss = 0.45281430\n",
      "Iteration 65, loss = 0.45260259\n",
      "Iteration 66, loss = 0.45231835\n",
      "Iteration 67, loss = 0.45208056\n",
      "Iteration 68, loss = 0.45185637\n",
      "Iteration 69, loss = 0.45163395\n",
      "Iteration 70, loss = 0.45169607\n",
      "Iteration 71, loss = 0.45141512\n",
      "Iteration 72, loss = 0.45115776\n",
      "Iteration 73, loss = 0.45100894\n",
      "Iteration 74, loss = 0.45058687\n",
      "Iteration 75, loss = 0.45062842\n",
      "Iteration 76, loss = 0.45045565\n",
      "Iteration 77, loss = 0.45016181\n",
      "Iteration 78, loss = 0.45006880\n",
      "Iteration 79, loss = 0.45042440\n",
      "Iteration 80, loss = 0.44979413\n",
      "Iteration 81, loss = 0.44947820\n",
      "Iteration 82, loss = 0.44946655\n",
      "Iteration 83, loss = 0.44915992\n",
      "Iteration 84, loss = 0.44899117\n",
      "Iteration 85, loss = 0.44886942\n",
      "Iteration 86, loss = 0.44859021\n",
      "Iteration 87, loss = 0.44868777\n",
      "Iteration 88, loss = 0.44831535\n",
      "Iteration 89, loss = 0.44818624\n",
      "Iteration 90, loss = 0.44833029\n",
      "Iteration 91, loss = 0.44760127\n",
      "Iteration 92, loss = 0.44792894\n",
      "Iteration 93, loss = 0.44755649\n",
      "Iteration 94, loss = 0.44798342\n",
      "Iteration 95, loss = 0.44714552\n",
      "Iteration 96, loss = 0.44676236\n",
      "Iteration 97, loss = 0.44687566\n",
      "Iteration 98, loss = 0.44667199\n",
      "Iteration 99, loss = 0.44654076\n",
      "Iteration 100, loss = 0.44604426\n",
      "Iteration 101, loss = 0.44597449\n",
      "Iteration 102, loss = 0.44595889\n",
      "Iteration 103, loss = 0.44555613\n",
      "Iteration 104, loss = 0.44527779\n",
      "Iteration 105, loss = 0.44536716\n",
      "Iteration 106, loss = 0.44515434\n",
      "Iteration 107, loss = 0.44480179\n",
      "Iteration 108, loss = 0.44437747\n",
      "Iteration 109, loss = 0.44427649\n",
      "Iteration 110, loss = 0.44427512\n",
      "Iteration 111, loss = 0.44456447\n",
      "Iteration 112, loss = 0.44391309\n",
      "Iteration 113, loss = 0.44409140\n",
      "Iteration 114, loss = 0.44379757\n",
      "Iteration 115, loss = 0.44330933\n",
      "Iteration 116, loss = 0.44331771\n",
      "Iteration 117, loss = 0.44309926\n",
      "Iteration 118, loss = 0.44296585\n",
      "Iteration 119, loss = 0.44301853\n",
      "Iteration 120, loss = 0.44248327\n",
      "Iteration 121, loss = 0.44295463\n",
      "Iteration 122, loss = 0.44254562\n",
      "Iteration 123, loss = 0.44221007\n",
      "Iteration 124, loss = 0.44182475\n",
      "Iteration 125, loss = 0.44214450\n",
      "Iteration 126, loss = 0.44194805\n",
      "Iteration 127, loss = 0.44143316\n",
      "Iteration 128, loss = 0.44198320\n",
      "Iteration 129, loss = 0.44176129\n",
      "Iteration 130, loss = 0.44148067\n",
      "Iteration 131, loss = 0.44098208\n",
      "Iteration 132, loss = 0.44104116\n",
      "Iteration 133, loss = 0.44096256\n",
      "Iteration 134, loss = 0.44071895\n",
      "Iteration 135, loss = 0.44083558\n",
      "Iteration 136, loss = 0.44076685\n",
      "Iteration 137, loss = 0.44084138\n",
      "Iteration 138, loss = 0.44056156\n",
      "Iteration 139, loss = 0.44031759\n",
      "Iteration 140, loss = 0.44009368\n",
      "Iteration 141, loss = 0.43976033\n",
      "Iteration 142, loss = 0.43980068\n",
      "Iteration 143, loss = 0.43964172\n",
      "Iteration 144, loss = 0.43975592\n",
      "Iteration 145, loss = 0.43974796\n",
      "Iteration 146, loss = 0.43955925\n",
      "Iteration 147, loss = 0.43971007\n",
      "Iteration 148, loss = 0.43933119\n",
      "Iteration 149, loss = 0.43941496\n",
      "Iteration 150, loss = 0.43906904\n",
      "Iteration 151, loss = 0.43941782\n",
      "Iteration 152, loss = 0.43908301\n",
      "Iteration 153, loss = 0.43864761\n",
      "Iteration 154, loss = 0.43845209\n",
      "Iteration 155, loss = 0.43863384\n",
      "Iteration 156, loss = 0.43867748\n",
      "Iteration 157, loss = 0.43828168\n",
      "Iteration 158, loss = 0.43816208\n",
      "Iteration 159, loss = 0.43818041\n",
      "Iteration 160, loss = 0.43796418\n",
      "Iteration 161, loss = 0.43804888\n",
      "Iteration 162, loss = 0.43758904\n",
      "Iteration 163, loss = 0.43776898\n",
      "Iteration 164, loss = 0.43718072\n",
      "Iteration 165, loss = 0.43777287\n",
      "Iteration 166, loss = 0.43756901\n",
      "Iteration 167, loss = 0.43702242\n",
      "Iteration 168, loss = 0.43677587\n",
      "Iteration 169, loss = 0.43665877\n",
      "Iteration 170, loss = 0.43675575\n",
      "Iteration 171, loss = 0.43667252\n",
      "Iteration 172, loss = 0.43668303\n",
      "Iteration 173, loss = 0.43618724\n",
      "Iteration 174, loss = 0.43620824\n",
      "Iteration 175, loss = 0.43605711\n",
      "Iteration 176, loss = 0.43637512\n",
      "Iteration 177, loss = 0.43609270\n",
      "Iteration 178, loss = 0.43582634\n",
      "Iteration 179, loss = 0.43574468\n",
      "Iteration 180, loss = 0.43552740\n",
      "Iteration 181, loss = 0.43556809\n",
      "Iteration 182, loss = 0.43583948\n",
      "Iteration 183, loss = 0.43519789\n",
      "Iteration 184, loss = 0.43596951\n",
      "Iteration 185, loss = 0.43543136\n",
      "Iteration 186, loss = 0.43525188\n",
      "Iteration 187, loss = 0.43569762\n",
      "Iteration 188, loss = 0.43483354\n",
      "Iteration 189, loss = 0.43497826\n",
      "Iteration 190, loss = 0.43504554\n",
      "Iteration 191, loss = 0.43453959\n",
      "Iteration 192, loss = 0.43438262\n",
      "Iteration 193, loss = 0.43437711\n",
      "Iteration 194, loss = 0.43433997\n",
      "Iteration 195, loss = 0.43419355\n",
      "Iteration 196, loss = 0.43434376\n",
      "Iteration 197, loss = 0.43409201\n",
      "Iteration 198, loss = 0.43411109\n",
      "Iteration 199, loss = 0.43407956\n",
      "Iteration 200, loss = 0.43399717\n",
      "Iteration 201, loss = 0.43372220\n",
      "Iteration 202, loss = 0.43345121\n",
      "Iteration 203, loss = 0.43388633\n",
      "Iteration 204, loss = 0.43349232\n",
      "Iteration 205, loss = 0.43341600\n",
      "Iteration 206, loss = 0.43333521\n",
      "Iteration 207, loss = 0.43313689\n",
      "Iteration 208, loss = 0.43285228\n",
      "Iteration 209, loss = 0.43286270\n",
      "Iteration 210, loss = 0.43337069\n",
      "Iteration 211, loss = 0.43300894\n",
      "Iteration 212, loss = 0.43288606\n",
      "Iteration 213, loss = 0.43305983\n",
      "Iteration 214, loss = 0.43307691\n",
      "Iteration 215, loss = 0.43287103\n",
      "Iteration 216, loss = 0.43226696\n",
      "Iteration 217, loss = 0.43279035\n",
      "Iteration 218, loss = 0.43212109\n",
      "Iteration 219, loss = 0.43260708\n",
      "Iteration 220, loss = 0.43235975\n",
      "Iteration 221, loss = 0.43227705\n",
      "Iteration 222, loss = 0.43196576\n",
      "Iteration 223, loss = 0.43198553\n",
      "Iteration 224, loss = 0.43152394\n",
      "Iteration 225, loss = 0.43152017\n",
      "Iteration 226, loss = 0.43160662\n",
      "Iteration 227, loss = 0.43192514\n",
      "Iteration 228, loss = 0.43153813\n",
      "Iteration 229, loss = 0.43110624\n",
      "Iteration 230, loss = 0.43188203\n",
      "Iteration 231, loss = 0.43160671\n",
      "Iteration 232, loss = 0.43086636\n",
      "Iteration 233, loss = 0.43108527\n",
      "Iteration 234, loss = 0.43061119\n",
      "Iteration 235, loss = 0.43057465\n",
      "Iteration 236, loss = 0.43068431\n",
      "Iteration 237, loss = 0.43049322\n",
      "Iteration 238, loss = 0.43101939\n",
      "Iteration 239, loss = 0.43026547\n",
      "Iteration 240, loss = 0.43034718\n",
      "Iteration 241, loss = 0.42969616\n",
      "Iteration 242, loss = 0.42976687\n",
      "Iteration 243, loss = 0.42968008\n",
      "Iteration 244, loss = 0.42965464\n",
      "Iteration 245, loss = 0.42953937\n",
      "Iteration 246, loss = 0.42968040\n",
      "Iteration 247, loss = 0.42942716\n",
      "Iteration 248, loss = 0.42972840\n",
      "Iteration 249, loss = 0.42962165\n",
      "Iteration 250, loss = 0.42908415\n",
      "Iteration 251, loss = 0.42878564\n",
      "Iteration 252, loss = 0.42861944\n",
      "Iteration 253, loss = 0.42892754\n",
      "Iteration 254, loss = 0.42871360\n",
      "Iteration 255, loss = 0.42959958\n",
      "Iteration 256, loss = 0.42864592\n",
      "Iteration 257, loss = 0.42844970\n",
      "Iteration 258, loss = 0.42813383\n",
      "Iteration 259, loss = 0.42829175\n",
      "Iteration 260, loss = 0.42856347\n",
      "Iteration 261, loss = 0.42862942\n",
      "Iteration 262, loss = 0.42797831\n",
      "Iteration 263, loss = 0.42836038\n",
      "Iteration 264, loss = 0.42824704\n",
      "Iteration 265, loss = 0.42779695\n",
      "Iteration 266, loss = 0.42791412\n",
      "Iteration 267, loss = 0.42788166\n",
      "Iteration 268, loss = 0.42777770\n",
      "Iteration 269, loss = 0.42786661\n",
      "Iteration 270, loss = 0.42754307\n",
      "Iteration 271, loss = 0.42730764\n",
      "Iteration 272, loss = 0.42804285\n",
      "Iteration 273, loss = 0.42764697\n",
      "Iteration 274, loss = 0.42724656\n",
      "Iteration 275, loss = 0.42719779\n",
      "Iteration 276, loss = 0.42699676\n",
      "Iteration 277, loss = 0.42737353\n",
      "Iteration 278, loss = 0.42712001\n",
      "Iteration 279, loss = 0.42729515\n",
      "Iteration 280, loss = 0.42759069\n",
      "Iteration 281, loss = 0.42656566\n",
      "Iteration 282, loss = 0.42691658\n",
      "Iteration 283, loss = 0.42662565\n",
      "Iteration 284, loss = 0.42633647\n",
      "Iteration 285, loss = 0.42660055\n",
      "Iteration 286, loss = 0.42610933\n",
      "Iteration 287, loss = 0.42618993\n",
      "Iteration 288, loss = 0.42629488\n",
      "Iteration 289, loss = 0.42609475\n",
      "Iteration 290, loss = 0.42583607\n",
      "Iteration 291, loss = 0.42581430\n",
      "Iteration 292, loss = 0.42688624\n",
      "Iteration 293, loss = 0.42617646\n",
      "Iteration 294, loss = 0.42578011\n",
      "Iteration 295, loss = 0.42549960\n",
      "Iteration 296, loss = 0.42558544\n",
      "Iteration 297, loss = 0.42582638\n",
      "Iteration 298, loss = 0.42500785\n",
      "Iteration 299, loss = 0.42521086\n",
      "Iteration 300, loss = 0.42524174\n",
      "Iteration 301, loss = 0.42492828\n",
      "Iteration 302, loss = 0.42545444\n",
      "Iteration 303, loss = 0.42567997\n",
      "Iteration 304, loss = 0.42494639\n",
      "Iteration 305, loss = 0.42529077\n",
      "Iteration 306, loss = 0.42485095\n",
      "Iteration 307, loss = 0.42505050\n",
      "Iteration 308, loss = 0.42429776\n",
      "Iteration 309, loss = 0.42425267\n",
      "Iteration 310, loss = 0.42468692\n",
      "Iteration 311, loss = 0.42457355\n",
      "Iteration 312, loss = 0.42466619\n",
      "Iteration 313, loss = 0.42425414\n",
      "Iteration 314, loss = 0.42609146\n",
      "Iteration 315, loss = 0.42424292\n",
      "Iteration 316, loss = 0.42440623\n",
      "Iteration 317, loss = 0.42421318\n",
      "Iteration 318, loss = 0.42432384\n",
      "Iteration 319, loss = 0.42356336\n",
      "Iteration 320, loss = 0.42412817\n",
      "Iteration 321, loss = 0.42381202\n",
      "Iteration 322, loss = 0.42389037\n",
      "Iteration 323, loss = 0.42419390\n",
      "Iteration 324, loss = 0.42356684\n",
      "Iteration 325, loss = 0.42423055\n",
      "Iteration 326, loss = 0.42360072\n",
      "Iteration 327, loss = 0.42308558\n",
      "Iteration 328, loss = 0.42302805\n",
      "Iteration 329, loss = 0.42335178\n",
      "Iteration 330, loss = 0.42330293\n",
      "Iteration 331, loss = 0.42310443\n",
      "Iteration 332, loss = 0.42289948\n",
      "Iteration 333, loss = 0.42333131\n",
      "Iteration 334, loss = 0.42383671\n",
      "Iteration 335, loss = 0.42260093\n",
      "Iteration 336, loss = 0.42254208\n",
      "Iteration 337, loss = 0.42272303\n",
      "Iteration 338, loss = 0.42324190\n",
      "Iteration 339, loss = 0.42267110\n",
      "Iteration 340, loss = 0.42275303\n",
      "Iteration 341, loss = 0.42241593\n",
      "Iteration 342, loss = 0.42239536\n",
      "Iteration 343, loss = 0.42225573\n",
      "Iteration 344, loss = 0.42249505\n",
      "Iteration 345, loss = 0.42230330\n",
      "Iteration 346, loss = 0.42281143\n",
      "Iteration 347, loss = 0.42249180\n",
      "Iteration 348, loss = 0.42169313\n",
      "Iteration 349, loss = 0.42240067\n",
      "Iteration 350, loss = 0.42232897\n",
      "Iteration 351, loss = 0.42232454\n",
      "Iteration 352, loss = 0.42203592\n",
      "Iteration 353, loss = 0.42227424\n",
      "Iteration 354, loss = 0.42166110\n",
      "Iteration 355, loss = 0.42173839\n",
      "Iteration 356, loss = 0.42217602\n",
      "Iteration 357, loss = 0.42155455\n",
      "Iteration 358, loss = 0.42143542\n",
      "Iteration 359, loss = 0.42172137\n",
      "Iteration 360, loss = 0.42127447\n",
      "Iteration 361, loss = 0.42196166\n",
      "Iteration 362, loss = 0.42168873\n",
      "Iteration 363, loss = 0.42177156\n",
      "Iteration 364, loss = 0.42150899\n",
      "Iteration 365, loss = 0.42149194\n",
      "Iteration 366, loss = 0.42172177\n",
      "Iteration 367, loss = 0.42153836\n",
      "Iteration 368, loss = 0.42144030\n",
      "Iteration 369, loss = 0.42173207\n",
      "Iteration 370, loss = 0.42213268\n",
      "Iteration 371, loss = 0.42131005\n",
      "Training loss did not improve more than tol=0.000100 for 10 consecutive epochs. Stopping.\n"
     ]
    },
    {
     "data": {
      "text/html": [
       "<style>#sk-container-id-3 {color: black;background-color: white;}#sk-container-id-3 pre{padding: 0;}#sk-container-id-3 div.sk-toggleable {background-color: white;}#sk-container-id-3 label.sk-toggleable__label {cursor: pointer;display: block;width: 100%;margin-bottom: 0;padding: 0.3em;box-sizing: border-box;text-align: center;}#sk-container-id-3 label.sk-toggleable__label-arrow:before {content: \"▸\";float: left;margin-right: 0.25em;color: #696969;}#sk-container-id-3 label.sk-toggleable__label-arrow:hover:before {color: black;}#sk-container-id-3 div.sk-estimator:hover label.sk-toggleable__label-arrow:before {color: black;}#sk-container-id-3 div.sk-toggleable__content {max-height: 0;max-width: 0;overflow: hidden;text-align: left;background-color: #f0f8ff;}#sk-container-id-3 div.sk-toggleable__content pre {margin: 0.2em;color: black;border-radius: 0.25em;background-color: #f0f8ff;}#sk-container-id-3 input.sk-toggleable__control:checked~div.sk-toggleable__content {max-height: 200px;max-width: 100%;overflow: auto;}#sk-container-id-3 input.sk-toggleable__control:checked~label.sk-toggleable__label-arrow:before {content: \"▾\";}#sk-container-id-3 div.sk-estimator input.sk-toggleable__control:checked~label.sk-toggleable__label {background-color: #d4ebff;}#sk-container-id-3 div.sk-label input.sk-toggleable__control:checked~label.sk-toggleable__label {background-color: #d4ebff;}#sk-container-id-3 input.sk-hidden--visually {border: 0;clip: rect(1px 1px 1px 1px);clip: rect(1px, 1px, 1px, 1px);height: 1px;margin: -1px;overflow: hidden;padding: 0;position: absolute;width: 1px;}#sk-container-id-3 div.sk-estimator {font-family: monospace;background-color: #f0f8ff;border: 1px dotted black;border-radius: 0.25em;box-sizing: border-box;margin-bottom: 0.5em;}#sk-container-id-3 div.sk-estimator:hover {background-color: #d4ebff;}#sk-container-id-3 div.sk-parallel-item::after {content: \"\";width: 100%;border-bottom: 1px solid gray;flex-grow: 1;}#sk-container-id-3 div.sk-label:hover label.sk-toggleable__label {background-color: #d4ebff;}#sk-container-id-3 div.sk-serial::before {content: \"\";position: absolute;border-left: 1px solid gray;box-sizing: border-box;top: 0;bottom: 0;left: 50%;z-index: 0;}#sk-container-id-3 div.sk-serial {display: flex;flex-direction: column;align-items: center;background-color: white;padding-right: 0.2em;padding-left: 0.2em;position: relative;}#sk-container-id-3 div.sk-item {position: relative;z-index: 1;}#sk-container-id-3 div.sk-parallel {display: flex;align-items: stretch;justify-content: center;background-color: white;position: relative;}#sk-container-id-3 div.sk-item::before, #sk-container-id-3 div.sk-parallel-item::before {content: \"\";position: absolute;border-left: 1px solid gray;box-sizing: border-box;top: 0;bottom: 0;left: 50%;z-index: -1;}#sk-container-id-3 div.sk-parallel-item {display: flex;flex-direction: column;z-index: 1;position: relative;background-color: white;}#sk-container-id-3 div.sk-parallel-item:first-child::after {align-self: flex-end;width: 50%;}#sk-container-id-3 div.sk-parallel-item:last-child::after {align-self: flex-start;width: 50%;}#sk-container-id-3 div.sk-parallel-item:only-child::after {width: 0;}#sk-container-id-3 div.sk-dashed-wrapped {border: 1px dashed gray;margin: 0 0.4em 0.5em 0.4em;box-sizing: border-box;padding-bottom: 0.4em;background-color: white;}#sk-container-id-3 div.sk-label label {font-family: monospace;font-weight: bold;display: inline-block;line-height: 1.2em;}#sk-container-id-3 div.sk-label-container {text-align: center;}#sk-container-id-3 div.sk-container {/* jupyter's `normalize.less` sets `[hidden] { display: none; }` but bootstrap.min.css set `[hidden] { display: none !important; }` so we also need the `!important` here to be able to override the default hidden behavior on the sphinx rendered scikit-learn.org. See: https://github.com/scikit-learn/scikit-learn/issues/21755 */display: inline-block !important;position: relative;}#sk-container-id-3 div.sk-text-repr-fallback {display: none;}</style><div id=\"sk-container-id-3\" class=\"sk-top-container\"><div class=\"sk-text-repr-fallback\"><pre>MLPClassifier(max_iter=5000, verbose=True)</pre><b>In a Jupyter environment, please rerun this cell to show the HTML representation or trust the notebook. <br />On GitHub, the HTML representation is unable to render, please try loading this page with nbviewer.org.</b></div><div class=\"sk-container\" hidden><div class=\"sk-item\"><div class=\"sk-estimator sk-toggleable\"><input class=\"sk-toggleable__control sk-hidden--visually\" id=\"sk-estimator-id-3\" type=\"checkbox\" checked><label for=\"sk-estimator-id-3\" class=\"sk-toggleable__label sk-toggleable__label-arrow\">MLPClassifier</label><div class=\"sk-toggleable__content\"><pre>MLPClassifier(max_iter=5000, verbose=True)</pre></div></div></div></div></div>"
      ],
      "text/plain": [
       "MLPClassifier(max_iter=5000, verbose=True)"
      ]
     },
     "execution_count": 67,
     "metadata": {},
     "output_type": "execute_result"
    }
   ],
   "source": [
    "#ANN\n",
    "from sklearn.neural_network import MLPClassifier\n",
    "\n",
    "model3=MLPClassifier(max_iter=5000,verbose=True)\n",
    "model3.fit(X_train,y_train)"
   ]
  },
  {
   "cell_type": "code",
   "execution_count": 68,
   "metadata": {},
   "outputs": [],
   "source": [
    "y_pred = model3.predict(X_test)"
   ]
  },
  {
   "cell_type": "code",
   "execution_count": 69,
   "metadata": {},
   "outputs": [
    {
     "name": "stdout",
     "output_type": "stream",
     "text": [
      "[[ 1358  7442]\n",
      " [  840 36386]]\n",
      "              precision    recall  f1-score   support\n",
      "\n",
      "           0       0.62      0.15      0.25      8800\n",
      "           1       0.83      0.98      0.90     37226\n",
      "\n",
      "    accuracy                           0.82     46026\n",
      "   macro avg       0.72      0.57      0.57     46026\n",
      "weighted avg       0.79      0.82      0.77     46026\n",
      "\n"
     ]
    }
   ],
   "source": [
    "#evaluating neural network\n",
    "from sklearn.metrics import classification_report, confusion_matrix\n",
    "print(confusion_matrix(y_test, y_pred))\n",
    "print(classification_report(y_test, y_pred))"
   ]
  }
 ],
 "metadata": {
  "kernelspec": {
   "display_name": "Python 3.10.7 64-bit (microsoft store)",
   "language": "python",
   "name": "python3"
  },
  "language_info": {
   "codemirror_mode": {
    "name": "ipython",
    "version": 3
   },
   "file_extension": ".py",
   "mimetype": "text/x-python",
   "name": "python",
   "nbconvert_exporter": "python",
   "pygments_lexer": "ipython3",
   "version": "3.10.7"
  },
  "orig_nbformat": 4,
  "vscode": {
   "interpreter": {
    "hash": "08b49db26209f427c70a7b1cc034d5348ba456dc2808f12d85d7d649f8587a08"
   }
  }
 },
 "nbformat": 4,
 "nbformat_minor": 2
}
